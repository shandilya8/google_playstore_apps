{
  "nbformat": 4,
  "nbformat_minor": 0,
  "metadata": {
    "kernelspec": {
      "language": "python",
      "display_name": "Python 3",
      "name": "python3"
    },
    "language_info": {
      "name": "python",
      "version": "3.7.10",
      "mimetype": "text/x-python",
      "codemirror_mode": {
        "name": "ipython",
        "version": 3
      },
      "pygments_lexer": "ipython3",
      "nbconvert_exporter": "python",
      "file_extension": ".py"
    },
    "colab": {
      "name": "android-app-recommendation.ipynb",
      "provenance": [],
      "include_colab_link": true
    }
  },
  "cells": [
    {
      "cell_type": "markdown",
      "metadata": {
        "id": "view-in-github",
        "colab_type": "text"
      },
      "source": [
        "<a href=\"https://colab.research.google.com/github/shandilya8/google_playstore_apps/blob/main/android_app_recommendation.ipynb\" target=\"_parent\"><img src=\"https://colab.research.google.com/assets/colab-badge.svg\" alt=\"Open In Colab\"/></a>"
      ]
    },
    {
      "cell_type": "code",
      "metadata": {
        "execution": {
          "iopub.status.busy": "2021-08-25T18:29:06.752131Z",
          "iopub.execute_input": "2021-08-25T18:29:06.752723Z",
          "iopub.status.idle": "2021-08-25T18:29:07.732424Z",
          "shell.execute_reply.started": "2021-08-25T18:29:06.752596Z",
          "shell.execute_reply": "2021-08-25T18:29:07.731519Z"
        },
        "trusted": true,
        "id": "BcGe8zIF2tv6"
      },
      "source": [
        "import numpy as np \n",
        "import pandas as pd\n",
        "from matplotlib import pyplot as plt\n",
        "import seaborn as sns\n",
        "plt.style.use('seaborn')\n",
        "%matplotlib inline"
      ],
      "execution_count": 1,
      "outputs": []
    },
    {
      "cell_type": "code",
      "metadata": {
        "execution": {
          "iopub.status.busy": "2021-08-25T18:29:07.733789Z",
          "iopub.execute_input": "2021-08-25T18:29:07.734063Z",
          "iopub.status.idle": "2021-08-25T18:29:07.821255Z",
          "shell.execute_reply.started": "2021-08-25T18:29:07.734038Z",
          "shell.execute_reply": "2021-08-25T18:29:07.820321Z"
        },
        "trusted": true,
        "colab": {
          "base_uri": "https://localhost:8080/"
        },
        "id": "a1qT9qHu2tv_",
        "outputId": "d0a2b498-0775-41ba-efe1-01bdaafcfabe"
      },
      "source": [
        "df = pd.read_csv('/googleplaystore.csv')\n",
        "df.shape"
      ],
      "execution_count": 3,
      "outputs": [
        {
          "output_type": "execute_result",
          "data": {
            "text/plain": [
              "(10841, 13)"
            ]
          },
          "metadata": {},
          "execution_count": 3
        }
      ]
    },
    {
      "cell_type": "code",
      "metadata": {
        "execution": {
          "iopub.status.busy": "2021-08-25T18:29:07.823286Z",
          "iopub.execute_input": "2021-08-25T18:29:07.823566Z",
          "iopub.status.idle": "2021-08-25T18:29:07.864379Z",
          "shell.execute_reply.started": "2021-08-25T18:29:07.823540Z",
          "shell.execute_reply": "2021-08-25T18:29:07.863404Z"
        },
        "trusted": true,
        "colab": {
          "base_uri": "https://localhost:8080/"
        },
        "id": "F5bgSXIK2twB",
        "outputId": "57e3bcc8-070e-4ca3-d8ce-ca445437baf6"
      },
      "source": [
        "df.info()"
      ],
      "execution_count": 4,
      "outputs": [
        {
          "output_type": "stream",
          "name": "stdout",
          "text": [
            "<class 'pandas.core.frame.DataFrame'>\n",
            "RangeIndex: 10841 entries, 0 to 10840\n",
            "Data columns (total 13 columns):\n",
            " #   Column          Non-Null Count  Dtype  \n",
            "---  ------          --------------  -----  \n",
            " 0   App             10841 non-null  object \n",
            " 1   Category        10841 non-null  object \n",
            " 2   Rating          9367 non-null   float64\n",
            " 3   Reviews         10841 non-null  object \n",
            " 4   Size            10841 non-null  object \n",
            " 5   Installs        10841 non-null  object \n",
            " 6   Type            10840 non-null  object \n",
            " 7   Price           10841 non-null  object \n",
            " 8   Content Rating  10840 non-null  object \n",
            " 9   Genres          10841 non-null  object \n",
            " 10  Last Updated    10841 non-null  object \n",
            " 11  Current Ver     10833 non-null  object \n",
            " 12  Android Ver     10838 non-null  object \n",
            "dtypes: float64(1), object(12)\n",
            "memory usage: 1.1+ MB\n"
          ]
        }
      ]
    },
    {
      "cell_type": "code",
      "metadata": {
        "execution": {
          "iopub.status.busy": "2021-08-25T18:29:07.865796Z",
          "iopub.execute_input": "2021-08-25T18:29:07.866053Z",
          "iopub.status.idle": "2021-08-25T18:29:07.886581Z",
          "shell.execute_reply.started": "2021-08-25T18:29:07.866028Z",
          "shell.execute_reply": "2021-08-25T18:29:07.885732Z"
        },
        "trusted": true,
        "colab": {
          "base_uri": "https://localhost:8080/"
        },
        "id": "uKq9R49Z2twC",
        "outputId": "7f66dc0d-b91e-4e51-f994-d19172589acc"
      },
      "source": [
        "df.isna().sum()"
      ],
      "execution_count": 5,
      "outputs": [
        {
          "output_type": "execute_result",
          "data": {
            "text/plain": [
              "App                  0\n",
              "Category             0\n",
              "Rating            1474\n",
              "Reviews              0\n",
              "Size                 0\n",
              "Installs             0\n",
              "Type                 1\n",
              "Price                0\n",
              "Content Rating       1\n",
              "Genres               0\n",
              "Last Updated         0\n",
              "Current Ver          8\n",
              "Android Ver          3\n",
              "dtype: int64"
            ]
          },
          "metadata": {},
          "execution_count": 5
        }
      ]
    },
    {
      "cell_type": "markdown",
      "metadata": {
        "id": "U0ChzSNQ2twD"
      },
      "source": [
        "# **1474 Missing values**"
      ]
    },
    {
      "cell_type": "code",
      "metadata": {
        "execution": {
          "iopub.status.busy": "2021-08-25T18:29:07.887682Z",
          "iopub.execute_input": "2021-08-25T18:29:07.888070Z",
          "iopub.status.idle": "2021-08-25T18:29:07.912344Z",
          "shell.execute_reply.started": "2021-08-25T18:29:07.888042Z",
          "shell.execute_reply": "2021-08-25T18:29:07.911695Z"
        },
        "trusted": true,
        "colab": {
          "base_uri": "https://localhost:8080/",
          "height": 295
        },
        "id": "PlH3HB3H2twE",
        "outputId": "c9a188a8-4890-4b53-922f-1323bd1a694d"
      },
      "source": [
        "df[['Rating']].describe()"
      ],
      "execution_count": 6,
      "outputs": [
        {
          "output_type": "execute_result",
          "data": {
            "text/html": [
              "<div>\n",
              "<style scoped>\n",
              "    .dataframe tbody tr th:only-of-type {\n",
              "        vertical-align: middle;\n",
              "    }\n",
              "\n",
              "    .dataframe tbody tr th {\n",
              "        vertical-align: top;\n",
              "    }\n",
              "\n",
              "    .dataframe thead th {\n",
              "        text-align: right;\n",
              "    }\n",
              "</style>\n",
              "<table border=\"1\" class=\"dataframe\">\n",
              "  <thead>\n",
              "    <tr style=\"text-align: right;\">\n",
              "      <th></th>\n",
              "      <th>Rating</th>\n",
              "    </tr>\n",
              "  </thead>\n",
              "  <tbody>\n",
              "    <tr>\n",
              "      <th>count</th>\n",
              "      <td>9367.000000</td>\n",
              "    </tr>\n",
              "    <tr>\n",
              "      <th>mean</th>\n",
              "      <td>4.193338</td>\n",
              "    </tr>\n",
              "    <tr>\n",
              "      <th>std</th>\n",
              "      <td>0.537431</td>\n",
              "    </tr>\n",
              "    <tr>\n",
              "      <th>min</th>\n",
              "      <td>1.000000</td>\n",
              "    </tr>\n",
              "    <tr>\n",
              "      <th>25%</th>\n",
              "      <td>4.000000</td>\n",
              "    </tr>\n",
              "    <tr>\n",
              "      <th>50%</th>\n",
              "      <td>4.300000</td>\n",
              "    </tr>\n",
              "    <tr>\n",
              "      <th>75%</th>\n",
              "      <td>4.500000</td>\n",
              "    </tr>\n",
              "    <tr>\n",
              "      <th>max</th>\n",
              "      <td>19.000000</td>\n",
              "    </tr>\n",
              "  </tbody>\n",
              "</table>\n",
              "</div>"
            ],
            "text/plain": [
              "            Rating\n",
              "count  9367.000000\n",
              "mean      4.193338\n",
              "std       0.537431\n",
              "min       1.000000\n",
              "25%       4.000000\n",
              "50%       4.300000\n",
              "75%       4.500000\n",
              "max      19.000000"
            ]
          },
          "metadata": {},
          "execution_count": 6
        }
      ]
    },
    {
      "cell_type": "code",
      "metadata": {
        "execution": {
          "iopub.status.busy": "2021-08-25T18:29:07.913268Z",
          "iopub.execute_input": "2021-08-25T18:29:07.913673Z",
          "iopub.status.idle": "2021-08-25T18:29:08.948623Z",
          "shell.execute_reply.started": "2021-08-25T18:29:07.913645Z",
          "shell.execute_reply": "2021-08-25T18:29:08.947704Z"
        },
        "trusted": true,
        "colab": {
          "base_uri": "https://localhost:8080/",
          "height": 279
        },
        "id": "_P7eNyRk2twF",
        "outputId": "bfa3a820-cec6-4abf-c8b3-7bfd530781e7"
      },
      "source": [
        "sns.histplot(x=df['Rating'])\n",
        "plt.show()"
      ],
      "execution_count": 7,
      "outputs": [
        {
          "output_type": "display_data",
          "data": {
            "image/png": "[encoded data removed]",
            "text/plain": [
              "<Figure size 432x288 with 1 Axes>"
            ]
          },
          "metadata": {
            "needs_background": "light"
          }
        }
      ]
    },
    {
      "cell_type": "markdown",
      "metadata": {
        "id": "S6QJOqrI2twG"
      },
      "source": [
        "# **App Rating Cannot be more than a 5**\n",
        "**Outliers in ratings**"
      ]
    },
    {
      "cell_type": "code",
      "metadata": {
        "execution": {
          "iopub.status.busy": "2021-08-25T18:29:08.951665Z",
          "iopub.execute_input": "2021-08-25T18:29:08.951948Z",
          "iopub.status.idle": "2021-08-25T18:29:08.971911Z",
          "shell.execute_reply.started": "2021-08-25T18:29:08.951923Z",
          "shell.execute_reply": "2021-08-25T18:29:08.970242Z"
        },
        "trusted": true,
        "colab": {
          "base_uri": "https://localhost:8080/",
          "height": 130
        },
        "id": "FYqOId402twH",
        "outputId": "242c8681-145f-420f-89a5-5bf0958b0ab7"
      },
      "source": [
        "df[df['Rating']>5]"
      ],
      "execution_count": 8,
      "outputs": [
        {
          "output_type": "execute_result",
          "data": {
            "text/html": [
              "<div>\n",
              "<style scoped>\n",
              "    .dataframe tbody tr th:only-of-type {\n",
              "        vertical-align: middle;\n",
              "    }\n",
              "\n",
              "    .dataframe tbody tr th {\n",
              "        vertical-align: top;\n",
              "    }\n",
              "\n",
              "    .dataframe thead th {\n",
              "        text-align: right;\n",
              "    }\n",
              "</style>\n",
              "<table border=\"1\" class=\"dataframe\">\n",
              "  <thead>\n",
              "    <tr style=\"text-align: right;\">\n",
              "      <th></th>\n",
              "      <th>App</th>\n",
              "      <th>Category</th>\n",
              "      <th>Rating</th>\n",
              "      <th>Reviews</th>\n",
              "      <th>Size</th>\n",
              "      <th>Installs</th>\n",
              "      <th>Type</th>\n",
              "      <th>Price</th>\n",
              "      <th>Content Rating</th>\n",
              "      <th>Genres</th>\n",
              "      <th>Last Updated</th>\n",
              "      <th>Current Ver</th>\n",
              "      <th>Android Ver</th>\n",
              "    </tr>\n",
              "  </thead>\n",
              "  <tbody>\n",
              "    <tr>\n",
              "      <th>10472</th>\n",
              "      <td>Life Made WI-Fi Touchscreen Photo Frame</td>\n",
              "      <td>1.9</td>\n",
              "      <td>19.0</td>\n",
              "      <td>3.0M</td>\n",
              "      <td>1,000+</td>\n",
              "      <td>Free</td>\n",
              "      <td>0</td>\n",
              "      <td>Everyone</td>\n",
              "      <td>NaN</td>\n",
              "      <td>February 11, 2018</td>\n",
              "      <td>1.0.19</td>\n",
              "      <td>4.0 and up</td>\n",
              "      <td>NaN</td>\n",
              "    </tr>\n",
              "  </tbody>\n",
              "</table>\n",
              "</div>"
            ],
            "text/plain": [
              "                                           App Category  ...  Current Ver Android Ver\n",
              "10472  Life Made WI-Fi Touchscreen Photo Frame      1.9  ...   4.0 and up         NaN\n",
              "\n",
              "[1 rows x 13 columns]"
            ]
          },
          "metadata": {},
          "execution_count": 8
        }
      ]
    },
    {
      "cell_type": "markdown",
      "metadata": {
        "id": "fiQ4JmNx2twJ"
      },
      "source": [
        "**Removing this column**"
      ]
    },
    {
      "cell_type": "code",
      "metadata": {
        "execution": {
          "iopub.status.busy": "2021-08-25T18:29:08.975001Z",
          "iopub.execute_input": "2021-08-25T18:29:08.975384Z",
          "iopub.status.idle": "2021-08-25T18:29:08.982701Z",
          "shell.execute_reply.started": "2021-08-25T18:29:08.975352Z",
          "shell.execute_reply": "2021-08-25T18:29:08.981656Z"
        },
        "trusted": true,
        "id": "Vkj8wp7i2twJ"
      },
      "source": [
        "df.drop(10472,axis=0,inplace=True)"
      ],
      "execution_count": null,
      "outputs": []
    },
    {
      "cell_type": "code",
      "metadata": {
        "execution": {
          "iopub.status.busy": "2021-08-25T18:29:08.984725Z",
          "iopub.execute_input": "2021-08-25T18:29:08.985213Z",
          "iopub.status.idle": "2021-08-25T18:29:08.994660Z",
          "shell.execute_reply.started": "2021-08-25T18:29:08.985179Z",
          "shell.execute_reply": "2021-08-25T18:29:08.993598Z"
        },
        "trusted": true,
        "id": "c-7Kgx7E2twK",
        "outputId": "f9f7239d-319e-4029-95e5-b005c9384a8a"
      },
      "source": [
        "df.shape"
      ],
      "execution_count": null,
      "outputs": [
        {
          "execution_count": 9,
          "output_type": "execute_result",
          "data": {
            "text/plain": "(10840, 13)"
          },
          "metadata": {}
        }
      ]
    },
    {
      "cell_type": "code",
      "metadata": {
        "execution": {
          "iopub.status.busy": "2021-08-25T18:29:08.996352Z",
          "iopub.execute_input": "2021-08-25T18:29:08.996686Z",
          "iopub.status.idle": "2021-08-25T18:29:09.009573Z",
          "shell.execute_reply.started": "2021-08-25T18:29:08.996657Z",
          "shell.execute_reply": "2021-08-25T18:29:09.008467Z"
        },
        "trusted": true,
        "id": "ef7fpfRz2twL"
      },
      "source": [
        "df.set_index([[i for i in range(10840)]],inplace=True)"
      ],
      "execution_count": null,
      "outputs": []
    },
    {
      "cell_type": "code",
      "metadata": {
        "execution": {
          "iopub.status.busy": "2021-08-25T18:29:09.010829Z",
          "iopub.execute_input": "2021-08-25T18:29:09.011155Z",
          "iopub.status.idle": "2021-08-25T18:29:09.030461Z",
          "shell.execute_reply.started": "2021-08-25T18:29:09.011116Z",
          "shell.execute_reply": "2021-08-25T18:29:09.029532Z"
        },
        "trusted": true,
        "id": "mzO5IJ9V2twL",
        "outputId": "5f8b4a56-21df-40f4-d1bd-ac773a25371f"
      },
      "source": [
        "df[['Rating']].describe()"
      ],
      "execution_count": null,
      "outputs": [
        {
          "execution_count": 11,
          "output_type": "execute_result",
          "data": {
            "text/plain": "            Rating\ncount  9366.000000\nmean      4.191757\nstd       0.515219\nmin       1.000000\n25%       4.000000\n50%       4.300000\n75%       4.500000\nmax       5.000000",
            "text/html": "<div>\n<style scoped>\n    .dataframe tbody tr th:only-of-type {\n        vertical-align: middle;\n    }\n\n    .dataframe tbody tr th {\n        vertical-align: top;\n    }\n\n    .dataframe thead th {\n        text-align: right;\n    }\n</style>\n<table border=\"1\" class=\"dataframe\">\n  <thead>\n    <tr style=\"text-align: right;\">\n      <th></th>\n      <th>Rating</th>\n    </tr>\n  </thead>\n  <tbody>\n    <tr>\n      <th>count</th>\n      <td>9366.000000</td>\n    </tr>\n    <tr>\n      <th>mean</th>\n      <td>4.191757</td>\n    </tr>\n    <tr>\n      <th>std</th>\n      <td>0.515219</td>\n    </tr>\n    <tr>\n      <th>min</th>\n      <td>1.000000</td>\n    </tr>\n    <tr>\n      <th>25%</th>\n      <td>4.000000</td>\n    </tr>\n    <tr>\n      <th>50%</th>\n      <td>4.300000</td>\n    </tr>\n    <tr>\n      <th>75%</th>\n      <td>4.500000</td>\n    </tr>\n    <tr>\n      <th>max</th>\n      <td>5.000000</td>\n    </tr>\n  </tbody>\n</table>\n</div>"
          },
          "metadata": {}
        }
      ]
    },
    {
      "cell_type": "code",
      "metadata": {
        "execution": {
          "iopub.status.busy": "2021-08-25T18:29:09.031957Z",
          "iopub.execute_input": "2021-08-25T18:29:09.032342Z",
          "iopub.status.idle": "2021-08-25T18:29:09.379079Z",
          "shell.execute_reply.started": "2021-08-25T18:29:09.032299Z",
          "shell.execute_reply": "2021-08-25T18:29:09.377388Z"
        },
        "trusted": true,
        "id": "HTRgF3vG2twM",
        "outputId": "fa61deb6-45a0-4d0a-8511-da52fa0fc881"
      },
      "source": [
        "sns.histplot(x=df['Rating'])\n",
        "plt.show()"
      ],
      "execution_count": null,
      "outputs": [
        {
          "output_type": "display_data",
          "data": {
            "text/plain": "<Figure size 432x288 with 1 Axes>",
            "image/png": "[encoded data removed]"
          },
          "metadata": {
            "needs_background": "light"
          }
        }
      ]
    },
    {
      "cell_type": "markdown",
      "metadata": {
        "id": "FeyJn5YR2twN"
      },
      "source": [
        "# **Filling NaN rating values based on Reviews**"
      ]
    },
    {
      "cell_type": "code",
      "metadata": {
        "execution": {
          "iopub.status.busy": "2021-08-25T18:29:09.380507Z",
          "iopub.execute_input": "2021-08-25T18:29:09.380846Z",
          "iopub.status.idle": "2021-08-25T18:29:09.387524Z",
          "shell.execute_reply.started": "2021-08-25T18:29:09.380814Z",
          "shell.execute_reply": "2021-08-25T18:29:09.386465Z"
        },
        "trusted": true,
        "id": "EyLpJ-ig2twN",
        "outputId": "4e3f6fa1-0268-4119-c972-7b4e718cf400"
      },
      "source": [
        "df['Reviews'].dtype == 'object' #is String type"
      ],
      "execution_count": null,
      "outputs": [
        {
          "execution_count": 13,
          "output_type": "execute_result",
          "data": {
            "text/plain": "True"
          },
          "metadata": {}
        }
      ]
    },
    {
      "cell_type": "code",
      "metadata": {
        "execution": {
          "iopub.status.busy": "2021-08-25T18:29:09.389153Z",
          "iopub.execute_input": "2021-08-25T18:29:09.389588Z",
          "iopub.status.idle": "2021-08-25T18:29:09.413965Z",
          "shell.execute_reply.started": "2021-08-25T18:29:09.389545Z",
          "shell.execute_reply": "2021-08-25T18:29:09.412814Z"
        },
        "trusted": true,
        "id": "spk13LeR2twO",
        "outputId": "5ce99676-cd4d-4c21-9013-d6742765bc44"
      },
      "source": [
        "df['Reviews'] = pd.to_numeric(df['Reviews'])\n",
        "df['Reviews'].dtype"
      ],
      "execution_count": null,
      "outputs": [
        {
          "execution_count": 14,
          "output_type": "execute_result",
          "data": {
            "text/plain": "dtype('int64')"
          },
          "metadata": {}
        }
      ]
    },
    {
      "cell_type": "code",
      "metadata": {
        "execution": {
          "iopub.status.busy": "2021-08-25T18:29:09.415563Z",
          "iopub.execute_input": "2021-08-25T18:29:09.416104Z",
          "iopub.status.idle": "2021-08-25T18:29:09.431501Z",
          "shell.execute_reply.started": "2021-08-25T18:29:09.416061Z",
          "shell.execute_reply": "2021-08-25T18:29:09.430563Z"
        },
        "trusted": true,
        "id": "apwl1L9Q2twO",
        "outputId": "86380cbc-5b2b-4f32-ef90-64d509e1a7f3"
      },
      "source": [
        "df['Reviews'].describe()"
      ],
      "execution_count": null,
      "outputs": [
        {
          "execution_count": 15,
          "output_type": "execute_result",
          "data": {
            "text/plain": "count    1.084000e+04\nmean     4.441529e+05\nstd      2.927761e+06\nmin      0.000000e+00\n25%      3.800000e+01\n50%      2.094000e+03\n75%      5.477550e+04\nmax      7.815831e+07\nName: Reviews, dtype: float64"
          },
          "metadata": {}
        }
      ]
    },
    {
      "cell_type": "code",
      "metadata": {
        "execution": {
          "iopub.status.busy": "2021-08-25T18:29:09.432513Z",
          "iopub.execute_input": "2021-08-25T18:29:09.432925Z",
          "iopub.status.idle": "2021-08-25T18:29:09.606029Z",
          "shell.execute_reply.started": "2021-08-25T18:29:09.432897Z",
          "shell.execute_reply": "2021-08-25T18:29:09.605038Z"
        },
        "trusted": true,
        "id": "GD-eHcFk2twP",
        "outputId": "cbda2110-fed7-4528-c766-540f3d34f575"
      },
      "source": [
        "df['Reviews'].plot(kind='line')\n",
        "plt.show()"
      ],
      "execution_count": null,
      "outputs": [
        {
          "output_type": "display_data",
          "data": {
            "text/plain": "<Figure size 432x288 with 1 Axes>",
            "image/png": "[encoded data removed]"
          },
          "metadata": {
            "needs_background": "light"
          }
        }
      ]
    },
    {
      "cell_type": "code",
      "metadata": {
        "execution": {
          "iopub.status.busy": "2021-08-25T18:29:09.607260Z",
          "iopub.execute_input": "2021-08-25T18:29:09.607545Z",
          "iopub.status.idle": "2021-08-25T18:29:09.820470Z",
          "shell.execute_reply.started": "2021-08-25T18:29:09.607516Z",
          "shell.execute_reply": "2021-08-25T18:29:09.819525Z"
        },
        "trusted": true,
        "id": "ig9Zv7Y02twP",
        "outputId": "8b4fe427-8e31-416e-8471-8045caa76689"
      },
      "source": [
        "sns.scatterplot(data=df[['Reviews','Rating']],x='Rating',y='Reviews')\n",
        "plt.show()"
      ],
      "execution_count": null,
      "outputs": [
        {
          "output_type": "display_data",
          "data": {
            "text/plain": "<Figure size 432x288 with 1 Axes>",
            "image/png": "[encoded data removed]"
          },
          "metadata": {
            "needs_background": "light"
          }
        }
      ]
    },
    {
      "cell_type": "markdown",
      "metadata": {
        "id": "c863Bayh2twQ"
      },
      "source": [
        "# **Mean Reviews of apps with rating <=1**"
      ]
    },
    {
      "cell_type": "code",
      "metadata": {
        "execution": {
          "iopub.status.busy": "2021-08-25T18:29:09.821722Z",
          "iopub.execute_input": "2021-08-25T18:29:09.822019Z",
          "iopub.status.idle": "2021-08-25T18:29:09.829977Z",
          "shell.execute_reply.started": "2021-08-25T18:29:09.821991Z",
          "shell.execute_reply": "2021-08-25T18:29:09.829042Z"
        },
        "trusted": true,
        "id": "ahg22P3w2twQ",
        "outputId": "7015c00c-7699-4b71-8d07-f14ea4cf970e"
      },
      "source": [
        "df['Reviews'][df['Rating'] <=1 ].mean()"
      ],
      "execution_count": null,
      "outputs": [
        {
          "execution_count": 18,
          "output_type": "execute_result",
          "data": {
            "text/plain": "1.75"
          },
          "metadata": {}
        }
      ]
    },
    {
      "cell_type": "markdown",
      "metadata": {
        "id": "X65VLXZk2twQ"
      },
      "source": [
        "# **Mean Reviews of apps with rating >1 and <=2**"
      ]
    },
    {
      "cell_type": "code",
      "metadata": {
        "execution": {
          "iopub.status.busy": "2021-08-25T18:29:09.831847Z",
          "iopub.execute_input": "2021-08-25T18:29:09.832260Z",
          "iopub.status.idle": "2021-08-25T18:29:09.842797Z",
          "shell.execute_reply.started": "2021-08-25T18:29:09.832220Z",
          "shell.execute_reply": "2021-08-25T18:29:09.841799Z"
        },
        "trusted": true,
        "id": "ByRyRADJ2twR",
        "outputId": "4e09f543-647b-4cdc-8d14-df20940b9e34"
      },
      "source": [
        "df['Reviews'][(df['Rating'] >1)&(df['Rating'] <=2) ].mean()"
      ],
      "execution_count": null,
      "outputs": [
        {
          "execution_count": 19,
          "output_type": "execute_result",
          "data": {
            "text/plain": "258.65384615384613"
          },
          "metadata": {}
        }
      ]
    },
    {
      "cell_type": "markdown",
      "metadata": {
        "id": "nnD0exCl2twR"
      },
      "source": [
        "# **Mean Reviews of apps with rating >2 and <=3**"
      ]
    },
    {
      "cell_type": "code",
      "metadata": {
        "execution": {
          "iopub.status.busy": "2021-08-25T18:29:09.844050Z",
          "iopub.execute_input": "2021-08-25T18:29:09.844344Z",
          "iopub.status.idle": "2021-08-25T18:29:09.855822Z",
          "shell.execute_reply.started": "2021-08-25T18:29:09.844315Z",
          "shell.execute_reply": "2021-08-25T18:29:09.854989Z"
        },
        "trusted": true,
        "colab": {
          "base_uri": "https://localhost:8080/"
        },
        "id": "JLPmozK22twR",
        "outputId": "c7f42c1a-ec37-4fba-b50b-9a36a6a803d8"
      },
      "source": [
        "df['Reviews'][(df['Rating'] >2)& (df['Rating'] <=3) ].mean()"
      ],
      "execution_count": 9,
      "outputs": [
        {
          "output_type": "execute_result",
          "data": {
            "text/plain": [
              "inf"
            ]
          },
          "metadata": {},
          "execution_count": 9
        }
      ]
    },
    {
      "cell_type": "markdown",
      "metadata": {
        "id": "eN6hnPuR2twS"
      },
      "source": [
        "# **Mean Reviews of apps with rating >3 and <=4**"
      ]
    },
    {
      "cell_type": "code",
      "metadata": {
        "execution": {
          "iopub.status.busy": "2021-08-25T18:29:09.856765Z",
          "iopub.execute_input": "2021-08-25T18:29:09.857119Z",
          "iopub.status.idle": "2021-08-25T18:29:09.869899Z",
          "shell.execute_reply.started": "2021-08-25T18:29:09.857093Z",
          "shell.execute_reply": "2021-08-25T18:29:09.868862Z"
        },
        "trusted": true,
        "id": "j_Bpx3vM2twS",
        "outputId": "abfd5303-efa7-4c27-b470-d2093604e843"
      },
      "source": [
        "df['Reviews'][(df['Rating'] >3)& (df['Rating'] <=4) ].mean()"
      ],
      "execution_count": null,
      "outputs": [
        {
          "execution_count": 21,
          "output_type": "execute_result",
          "data": {
            "text/plain": "147931.15163934426"
          },
          "metadata": {}
        }
      ]
    },
    {
      "cell_type": "markdown",
      "metadata": {
        "id": "MssYgmeM2twS"
      },
      "source": [
        "# **Mean Reviews of apps with rating >4**"
      ]
    },
    {
      "cell_type": "code",
      "metadata": {
        "execution": {
          "iopub.status.busy": "2021-08-25T18:29:09.870938Z",
          "iopub.execute_input": "2021-08-25T18:29:09.871341Z",
          "iopub.status.idle": "2021-08-25T18:29:09.881765Z",
          "shell.execute_reply.started": "2021-08-25T18:29:09.871302Z",
          "shell.execute_reply": "2021-08-25T18:29:09.880808Z"
        },
        "trusted": true,
        "id": "U3Y4qaGU2twT",
        "outputId": "8ab84d4a-0e5d-4372-c118-5ea660f54509"
      },
      "source": [
        "df['Reviews'][df['Rating'] > 4 ].mean()"
      ],
      "execution_count": null,
      "outputs": [
        {
          "execution_count": 22,
          "output_type": "execute_result",
          "data": {
            "text/plain": "660191.2251470588"
          },
          "metadata": {}
        }
      ]
    },
    {
      "cell_type": "code",
      "metadata": {
        "execution": {
          "iopub.status.busy": "2021-08-25T18:29:09.887347Z",
          "iopub.execute_input": "2021-08-25T18:29:09.887942Z",
          "iopub.status.idle": "2021-08-25T18:29:09.910853Z",
          "shell.execute_reply.started": "2021-08-25T18:29:09.887894Z",
          "shell.execute_reply": "2021-08-25T18:29:09.909998Z"
        },
        "trusted": true,
        "id": "sqMlZaMs2twV",
        "outputId": "ce0f1dae-f43a-4397-c0c2-8876431d0f18"
      },
      "source": [
        "apps_no_rating = df[df['Rating'].isnull()]\n",
        "apps_no_rating.head()"
      ],
      "execution_count": null,
      "outputs": [
        {
          "execution_count": 23,
          "output_type": "execute_result",
          "data": {
            "text/plain": "                                     App        Category  Rating  Reviews  \\\n23                Mcqueen Coloring pages  ART_AND_DESIGN     NaN       61   \n113            Wrinkles and rejuvenation          BEAUTY     NaN      182   \n123               Manicure - nail design          BEAUTY     NaN      119   \n126         Skin Care and Natural Beauty          BEAUTY     NaN      654   \n129  Secrets of beauty, youth and health          BEAUTY     NaN       77   \n\n     Size  Installs  Type Price Content Rating  \\\n23   7.0M  100,000+  Free     0       Everyone   \n113  5.7M  100,000+  Free     0   Everyone 10+   \n123  3.7M   50,000+  Free     0       Everyone   \n126  7.4M  100,000+  Free     0           Teen   \n129  2.9M   10,000+  Free     0     Mature 17+   \n\n                              Genres        Last Updated Current Ver  \\\n23   Art & Design;Action & Adventure       March 7, 2018       1.0.0   \n113                           Beauty  September 20, 2017         8.0   \n123                           Beauty       July 23, 2018         1.3   \n126                           Beauty       July 17, 2018        1.15   \n129                           Beauty      August 8, 2017         2.0   \n\n    Android Ver  \n23   4.1 and up  \n113  3.0 and up  \n123  4.1 and up  \n126  4.1 and up  \n129  2.3 and up  ",
            "text/html": "<div>\n<style scoped>\n    .dataframe tbody tr th:only-of-type {\n        vertical-align: middle;\n    }\n\n    .dataframe tbody tr th {\n        vertical-align: top;\n    }\n\n    .dataframe thead th {\n        text-align: right;\n    }\n</style>\n<table border=\"1\" class=\"dataframe\">\n  <thead>\n    <tr style=\"text-align: right;\">\n      <th></th>\n      <th>App</th>\n      <th>Category</th>\n      <th>Rating</th>\n      <th>Reviews</th>\n      <th>Size</th>\n      <th>Installs</th>\n      <th>Type</th>\n      <th>Price</th>\n      <th>Content Rating</th>\n      <th>Genres</th>\n      <th>Last Updated</th>\n      <th>Current Ver</th>\n      <th>Android Ver</th>\n    </tr>\n  </thead>\n  <tbody>\n    <tr>\n      <th>23</th>\n      <td>Mcqueen Coloring pages</td>\n      <td>ART_AND_DESIGN</td>\n      <td>NaN</td>\n      <td>61</td>\n      <td>7.0M</td>\n      <td>100,000+</td>\n      <td>Free</td>\n      <td>0</td>\n      <td>Everyone</td>\n      <td>Art &amp; Design;Action &amp; Adventure</td>\n      <td>March 7, 2018</td>\n      <td>1.0.0</td>\n      <td>4.1 and up</td>\n    </tr>\n    <tr>\n      <th>113</th>\n      <td>Wrinkles and rejuvenation</td>\n      <td>BEAUTY</td>\n      <td>NaN</td>\n      <td>182</td>\n      <td>5.7M</td>\n      <td>100,000+</td>\n      <td>Free</td>\n      <td>0</td>\n      <td>Everyone 10+</td>\n      <td>Beauty</td>\n      <td>September 20, 2017</td>\n      <td>8.0</td>\n      <td>3.0 and up</td>\n    </tr>\n    <tr>\n      <th>123</th>\n      <td>Manicure - nail design</td>\n      <td>BEAUTY</td>\n      <td>NaN</td>\n      <td>119</td>\n      <td>3.7M</td>\n      <td>50,000+</td>\n      <td>Free</td>\n      <td>0</td>\n      <td>Everyone</td>\n      <td>Beauty</td>\n      <td>July 23, 2018</td>\n      <td>1.3</td>\n      <td>4.1 and up</td>\n    </tr>\n    <tr>\n      <th>126</th>\n      <td>Skin Care and Natural Beauty</td>\n      <td>BEAUTY</td>\n      <td>NaN</td>\n      <td>654</td>\n      <td>7.4M</td>\n      <td>100,000+</td>\n      <td>Free</td>\n      <td>0</td>\n      <td>Teen</td>\n      <td>Beauty</td>\n      <td>July 17, 2018</td>\n      <td>1.15</td>\n      <td>4.1 and up</td>\n    </tr>\n    <tr>\n      <th>129</th>\n      <td>Secrets of beauty, youth and health</td>\n      <td>BEAUTY</td>\n      <td>NaN</td>\n      <td>77</td>\n      <td>2.9M</td>\n      <td>10,000+</td>\n      <td>Free</td>\n      <td>0</td>\n      <td>Mature 17+</td>\n      <td>Beauty</td>\n      <td>August 8, 2017</td>\n      <td>2.0</td>\n      <td>2.3 and up</td>\n    </tr>\n  </tbody>\n</table>\n</div>"
          },
          "metadata": {}
        }
      ]
    },
    {
      "cell_type": "code",
      "metadata": {
        "execution": {
          "iopub.status.busy": "2021-08-25T18:29:09.913053Z",
          "iopub.execute_input": "2021-08-25T18:29:09.913317Z",
          "iopub.status.idle": "2021-08-25T18:29:09.929017Z",
          "shell.execute_reply.started": "2021-08-25T18:29:09.913292Z",
          "shell.execute_reply": "2021-08-25T18:29:09.928064Z"
        },
        "trusted": true,
        "id": "sROIDN1d2twV",
        "outputId": "4e8b7d63-6b98-4d89-c67c-725a8c3206a1"
      },
      "source": [
        "apps_no_rating[['Reviews']].describe()"
      ],
      "execution_count": null,
      "outputs": [
        {
          "execution_count": 24,
          "output_type": "execute_result",
          "data": {
            "text/plain": "           Reviews\ncount  1474.000000\nmean     18.062415\nstd     139.912271\nmin       0.000000\n25%       0.000000\n50%       1.000000\n75%       5.000000\nmax    3248.000000",
            "text/html": "<div>\n<style scoped>\n    .dataframe tbody tr th:only-of-type {\n        vertical-align: middle;\n    }\n\n    .dataframe tbody tr th {\n        vertical-align: top;\n    }\n\n    .dataframe thead th {\n        text-align: right;\n    }\n</style>\n<table border=\"1\" class=\"dataframe\">\n  <thead>\n    <tr style=\"text-align: right;\">\n      <th></th>\n      <th>Reviews</th>\n    </tr>\n  </thead>\n  <tbody>\n    <tr>\n      <th>count</th>\n      <td>1474.000000</td>\n    </tr>\n    <tr>\n      <th>mean</th>\n      <td>18.062415</td>\n    </tr>\n    <tr>\n      <th>std</th>\n      <td>139.912271</td>\n    </tr>\n    <tr>\n      <th>min</th>\n      <td>0.000000</td>\n    </tr>\n    <tr>\n      <th>25%</th>\n      <td>0.000000</td>\n    </tr>\n    <tr>\n      <th>50%</th>\n      <td>1.000000</td>\n    </tr>\n    <tr>\n      <th>75%</th>\n      <td>5.000000</td>\n    </tr>\n    <tr>\n      <th>max</th>\n      <td>3248.000000</td>\n    </tr>\n  </tbody>\n</table>\n</div>"
          },
          "metadata": {}
        }
      ]
    },
    {
      "cell_type": "code",
      "metadata": {
        "execution": {
          "iopub.status.busy": "2021-08-25T18:29:09.930333Z",
          "iopub.execute_input": "2021-08-25T18:29:09.930670Z",
          "iopub.status.idle": "2021-08-25T18:29:10.083937Z",
          "shell.execute_reply.started": "2021-08-25T18:29:09.930641Z",
          "shell.execute_reply": "2021-08-25T18:29:10.082986Z"
        },
        "trusted": true,
        "id": "hSXevVGw2twV",
        "outputId": "426e9f00-7f39-4035-b932-e21b8153e3aa"
      },
      "source": [
        "apps_no_rating['Reviews'].plot(kind='line')\n",
        "plt.show()"
      ],
      "execution_count": null,
      "outputs": [
        {
          "output_type": "display_data",
          "data": {
            "text/plain": "<Figure size 432x288 with 1 Axes>",
            "image/png": "[encoded data removed]"
          },
          "metadata": {
            "needs_background": "light"
          }
        }
      ]
    },
    {
      "cell_type": "markdown",
      "metadata": {
        "id": "iSz_RGf_2twW"
      },
      "source": [
        "# **Since Maximum reviews is <5000 I set all app NaN ratings to 2.5**"
      ]
    },
    {
      "cell_type": "code",
      "metadata": {
        "execution": {
          "iopub.status.busy": "2021-08-25T18:29:10.085322Z",
          "iopub.execute_input": "2021-08-25T18:29:10.085643Z",
          "iopub.status.idle": "2021-08-25T18:29:10.090649Z",
          "shell.execute_reply.started": "2021-08-25T18:29:10.085601Z",
          "shell.execute_reply": "2021-08-25T18:29:10.089676Z"
        },
        "trusted": true,
        "id": "cozD8ysN2twW"
      },
      "source": [
        "df['Rating'].fillna(2.5,inplace=True)"
      ],
      "execution_count": null,
      "outputs": []
    },
    {
      "cell_type": "code",
      "metadata": {
        "execution": {
          "iopub.status.busy": "2021-08-25T18:29:10.092039Z",
          "iopub.execute_input": "2021-08-25T18:29:10.092379Z",
          "iopub.status.idle": "2021-08-25T18:29:10.105467Z",
          "shell.execute_reply.started": "2021-08-25T18:29:10.092352Z",
          "shell.execute_reply": "2021-08-25T18:29:10.104594Z"
        },
        "trusted": true,
        "id": "VWppiLJ72twW",
        "outputId": "c4e995e9-5cb4-4d3f-8146-ea6cbbf1b033"
      },
      "source": [
        "df['Rating'].isna().sum()"
      ],
      "execution_count": null,
      "outputs": [
        {
          "execution_count": 27,
          "output_type": "execute_result",
          "data": {
            "text/plain": "0"
          },
          "metadata": {}
        }
      ]
    },
    {
      "cell_type": "markdown",
      "metadata": {
        "id": "Fx26igYF2twX"
      },
      "source": [
        "# **Feature Engineering**"
      ]
    },
    {
      "cell_type": "code",
      "metadata": {
        "execution": {
          "iopub.status.busy": "2021-08-25T18:29:10.107242Z",
          "iopub.execute_input": "2021-08-25T18:29:10.107732Z",
          "iopub.status.idle": "2021-08-25T18:29:10.134467Z",
          "shell.execute_reply.started": "2021-08-25T18:29:10.107685Z",
          "shell.execute_reply": "2021-08-25T18:29:10.133676Z"
        },
        "trusted": true,
        "id": "iCMdTQMr2twX",
        "outputId": "cd078bcd-ab03-4bed-b6f6-096927919f00"
      },
      "source": [
        "df.head()"
      ],
      "execution_count": null,
      "outputs": [
        {
          "execution_count": 28,
          "output_type": "execute_result",
          "data": {
            "text/plain": "                                                 App        Category  Rating  \\\n0     Photo Editor & Candy Camera & Grid & ScrapBook  ART_AND_DESIGN     4.1   \n1                                Coloring book moana  ART_AND_DESIGN     3.9   \n2  U Launcher Lite – FREE Live Cool Themes, Hide ...  ART_AND_DESIGN     4.7   \n3                              Sketch - Draw & Paint  ART_AND_DESIGN     4.5   \n4              Pixel Draw - Number Art Coloring Book  ART_AND_DESIGN     4.3   \n\n   Reviews  Size     Installs  Type Price Content Rating  \\\n0      159   19M      10,000+  Free     0       Everyone   \n1      967   14M     500,000+  Free     0       Everyone   \n2    87510  8.7M   5,000,000+  Free     0       Everyone   \n3   215644   25M  50,000,000+  Free     0           Teen   \n4      967  2.8M     100,000+  Free     0       Everyone   \n\n                      Genres      Last Updated         Current Ver  \\\n0               Art & Design   January 7, 2018               1.0.0   \n1  Art & Design;Pretend Play  January 15, 2018               2.0.0   \n2               Art & Design    August 1, 2018               1.2.4   \n3               Art & Design      June 8, 2018  Varies with device   \n4    Art & Design;Creativity     June 20, 2018                 1.1   \n\n    Android Ver  \n0  4.0.3 and up  \n1  4.0.3 and up  \n2  4.0.3 and up  \n3    4.2 and up  \n4    4.4 and up  ",
            "text/html": "<div>\n<style scoped>\n    .dataframe tbody tr th:only-of-type {\n        vertical-align: middle;\n    }\n\n    .dataframe tbody tr th {\n        vertical-align: top;\n    }\n\n    .dataframe thead th {\n        text-align: right;\n    }\n</style>\n<table border=\"1\" class=\"dataframe\">\n  <thead>\n    <tr style=\"text-align: right;\">\n      <th></th>\n      <th>App</th>\n      <th>Category</th>\n      <th>Rating</th>\n      <th>Reviews</th>\n      <th>Size</th>\n      <th>Installs</th>\n      <th>Type</th>\n      <th>Price</th>\n      <th>Content Rating</th>\n      <th>Genres</th>\n      <th>Last Updated</th>\n      <th>Current Ver</th>\n      <th>Android Ver</th>\n    </tr>\n  </thead>\n  <tbody>\n    <tr>\n      <th>0</th>\n      <td>Photo Editor &amp; Candy Camera &amp; Grid &amp; ScrapBook</td>\n      <td>ART_AND_DESIGN</td>\n      <td>4.1</td>\n      <td>159</td>\n      <td>19M</td>\n      <td>10,000+</td>\n      <td>Free</td>\n      <td>0</td>\n      <td>Everyone</td>\n      <td>Art &amp; Design</td>\n      <td>January 7, 2018</td>\n      <td>1.0.0</td>\n      <td>4.0.3 and up</td>\n    </tr>\n    <tr>\n      <th>1</th>\n      <td>Coloring book moana</td>\n      <td>ART_AND_DESIGN</td>\n      <td>3.9</td>\n      <td>967</td>\n      <td>14M</td>\n      <td>500,000+</td>\n      <td>Free</td>\n      <td>0</td>\n      <td>Everyone</td>\n      <td>Art &amp; Design;Pretend Play</td>\n      <td>January 15, 2018</td>\n      <td>2.0.0</td>\n      <td>4.0.3 and up</td>\n    </tr>\n    <tr>\n      <th>2</th>\n      <td>U Launcher Lite – FREE Live Cool Themes, Hide ...</td>\n      <td>ART_AND_DESIGN</td>\n      <td>4.7</td>\n      <td>87510</td>\n      <td>8.7M</td>\n      <td>5,000,000+</td>\n      <td>Free</td>\n      <td>0</td>\n      <td>Everyone</td>\n      <td>Art &amp; Design</td>\n      <td>August 1, 2018</td>\n      <td>1.2.4</td>\n      <td>4.0.3 and up</td>\n    </tr>\n    <tr>\n      <th>3</th>\n      <td>Sketch - Draw &amp; Paint</td>\n      <td>ART_AND_DESIGN</td>\n      <td>4.5</td>\n      <td>215644</td>\n      <td>25M</td>\n      <td>50,000,000+</td>\n      <td>Free</td>\n      <td>0</td>\n      <td>Teen</td>\n      <td>Art &amp; Design</td>\n      <td>June 8, 2018</td>\n      <td>Varies with device</td>\n      <td>4.2 and up</td>\n    </tr>\n    <tr>\n      <th>4</th>\n      <td>Pixel Draw - Number Art Coloring Book</td>\n      <td>ART_AND_DESIGN</td>\n      <td>4.3</td>\n      <td>967</td>\n      <td>2.8M</td>\n      <td>100,000+</td>\n      <td>Free</td>\n      <td>0</td>\n      <td>Everyone</td>\n      <td>Art &amp; Design;Creativity</td>\n      <td>June 20, 2018</td>\n      <td>1.1</td>\n      <td>4.4 and up</td>\n    </tr>\n  </tbody>\n</table>\n</div>"
          },
          "metadata": {}
        }
      ]
    },
    {
      "cell_type": "markdown",
      "metadata": {
        "id": "2wu5KRzN2twX"
      },
      "source": [
        "# **Category column**"
      ]
    },
    {
      "cell_type": "code",
      "metadata": {
        "execution": {
          "iopub.status.busy": "2021-08-25T18:29:10.135872Z",
          "iopub.execute_input": "2021-08-25T18:29:10.136279Z",
          "iopub.status.idle": "2021-08-25T18:29:10.534335Z",
          "shell.execute_reply.started": "2021-08-25T18:29:10.136244Z",
          "shell.execute_reply": "2021-08-25T18:29:10.533461Z"
        },
        "trusted": true,
        "id": "hWh9TQ2Q2twX",
        "outputId": "f4ffc7c1-1034-44c2-904c-6d201dc99088"
      },
      "source": [
        "plt.figure(figsize=(10,10))\n",
        "sns.countplot(y=df['Category'])\n",
        "plt.show()"
      ],
      "execution_count": null,
      "outputs": [
        {
          "output_type": "display_data",
          "data": {
            "text/plain": "<Figure size 720x720 with 1 Axes>",
            "image/png": "[encoded data removed]"
          },
          "metadata": {
            "needs_background": "light"
          }
        }
      ]
    },
    {
      "cell_type": "code",
      "metadata": {
        "execution": {
          "iopub.status.busy": "2021-08-25T18:29:10.535592Z",
          "iopub.execute_input": "2021-08-25T18:29:10.535898Z",
          "iopub.status.idle": "2021-08-25T18:29:10.688690Z",
          "shell.execute_reply.started": "2021-08-25T18:29:10.535868Z",
          "shell.execute_reply": "2021-08-25T18:29:10.687711Z"
        },
        "trusted": true,
        "id": "gPUgbhou2twX",
        "outputId": "21332668-1b7c-423a-e3e5-a42a8a25dc33"
      },
      "source": [
        "df['Genres'].value_counts().plot(kind='hist')\n",
        "plt.title(\"Genres Histogram\")\n",
        "plt.show()"
      ],
      "execution_count": null,
      "outputs": [
        {
          "output_type": "display_data",
          "data": {
            "text/plain": "<Figure size 432x288 with 1 Axes>",
            "image/png": "[encoded data removed]"
          },
          "metadata": {
            "needs_background": "light"
          }
        }
      ]
    },
    {
      "cell_type": "markdown",
      "metadata": {
        "id": "o1u05gmr2twY"
      },
      "source": [
        "# **Dropping Genres column because we had Category column**"
      ]
    },
    {
      "cell_type": "code",
      "metadata": {
        "execution": {
          "iopub.status.busy": "2021-08-25T18:29:10.690091Z",
          "iopub.execute_input": "2021-08-25T18:29:10.690686Z",
          "iopub.status.idle": "2021-08-25T18:29:10.713389Z",
          "shell.execute_reply.started": "2021-08-25T18:29:10.690623Z",
          "shell.execute_reply": "2021-08-25T18:29:10.712381Z"
        },
        "trusted": true,
        "id": "_5w-8e832twY",
        "outputId": "0ccb294c-b134-4056-aa5b-db1aff6904f1"
      },
      "source": [
        "df.drop('Genres',inplace=True,axis=1)\n",
        "df.head()"
      ],
      "execution_count": null,
      "outputs": [
        {
          "execution_count": 31,
          "output_type": "execute_result",
          "data": {
            "text/plain": "                                                 App        Category  Rating  \\\n0     Photo Editor & Candy Camera & Grid & ScrapBook  ART_AND_DESIGN     4.1   \n1                                Coloring book moana  ART_AND_DESIGN     3.9   \n2  U Launcher Lite – FREE Live Cool Themes, Hide ...  ART_AND_DESIGN     4.7   \n3                              Sketch - Draw & Paint  ART_AND_DESIGN     4.5   \n4              Pixel Draw - Number Art Coloring Book  ART_AND_DESIGN     4.3   \n\n   Reviews  Size     Installs  Type Price Content Rating      Last Updated  \\\n0      159   19M      10,000+  Free     0       Everyone   January 7, 2018   \n1      967   14M     500,000+  Free     0       Everyone  January 15, 2018   \n2    87510  8.7M   5,000,000+  Free     0       Everyone    August 1, 2018   \n3   215644   25M  50,000,000+  Free     0           Teen      June 8, 2018   \n4      967  2.8M     100,000+  Free     0       Everyone     June 20, 2018   \n\n          Current Ver   Android Ver  \n0               1.0.0  4.0.3 and up  \n1               2.0.0  4.0.3 and up  \n2               1.2.4  4.0.3 and up  \n3  Varies with device    4.2 and up  \n4                 1.1    4.4 and up  ",
            "text/html": "<div>\n<style scoped>\n    .dataframe tbody tr th:only-of-type {\n        vertical-align: middle;\n    }\n\n    .dataframe tbody tr th {\n        vertical-align: top;\n    }\n\n    .dataframe thead th {\n        text-align: right;\n    }\n</style>\n<table border=\"1\" class=\"dataframe\">\n  <thead>\n    <tr style=\"text-align: right;\">\n      <th></th>\n      <th>App</th>\n      <th>Category</th>\n      <th>Rating</th>\n      <th>Reviews</th>\n      <th>Size</th>\n      <th>Installs</th>\n      <th>Type</th>\n      <th>Price</th>\n      <th>Content Rating</th>\n      <th>Last Updated</th>\n      <th>Current Ver</th>\n      <th>Android Ver</th>\n    </tr>\n  </thead>\n  <tbody>\n    <tr>\n      <th>0</th>\n      <td>Photo Editor &amp; Candy Camera &amp; Grid &amp; ScrapBook</td>\n      <td>ART_AND_DESIGN</td>\n      <td>4.1</td>\n      <td>159</td>\n      <td>19M</td>\n      <td>10,000+</td>\n      <td>Free</td>\n      <td>0</td>\n      <td>Everyone</td>\n      <td>January 7, 2018</td>\n      <td>1.0.0</td>\n      <td>4.0.3 and up</td>\n    </tr>\n    <tr>\n      <th>1</th>\n      <td>Coloring book moana</td>\n      <td>ART_AND_DESIGN</td>\n      <td>3.9</td>\n      <td>967</td>\n      <td>14M</td>\n      <td>500,000+</td>\n      <td>Free</td>\n      <td>0</td>\n      <td>Everyone</td>\n      <td>January 15, 2018</td>\n      <td>2.0.0</td>\n      <td>4.0.3 and up</td>\n    </tr>\n    <tr>\n      <th>2</th>\n      <td>U Launcher Lite – FREE Live Cool Themes, Hide ...</td>\n      <td>ART_AND_DESIGN</td>\n      <td>4.7</td>\n      <td>87510</td>\n      <td>8.7M</td>\n      <td>5,000,000+</td>\n      <td>Free</td>\n      <td>0</td>\n      <td>Everyone</td>\n      <td>August 1, 2018</td>\n      <td>1.2.4</td>\n      <td>4.0.3 and up</td>\n    </tr>\n    <tr>\n      <th>3</th>\n      <td>Sketch - Draw &amp; Paint</td>\n      <td>ART_AND_DESIGN</td>\n      <td>4.5</td>\n      <td>215644</td>\n      <td>25M</td>\n      <td>50,000,000+</td>\n      <td>Free</td>\n      <td>0</td>\n      <td>Teen</td>\n      <td>June 8, 2018</td>\n      <td>Varies with device</td>\n      <td>4.2 and up</td>\n    </tr>\n    <tr>\n      <th>4</th>\n      <td>Pixel Draw - Number Art Coloring Book</td>\n      <td>ART_AND_DESIGN</td>\n      <td>4.3</td>\n      <td>967</td>\n      <td>2.8M</td>\n      <td>100,000+</td>\n      <td>Free</td>\n      <td>0</td>\n      <td>Everyone</td>\n      <td>June 20, 2018</td>\n      <td>1.1</td>\n      <td>4.4 and up</td>\n    </tr>\n  </tbody>\n</table>\n</div>"
          },
          "metadata": {}
        }
      ]
    },
    {
      "cell_type": "markdown",
      "metadata": {
        "id": "YOftQ7OF2twY"
      },
      "source": [
        "# **Size column**\n",
        "1. Apps in MB\n",
        "2. Apps in KB\n",
        "3. Others"
      ]
    },
    {
      "cell_type": "code",
      "metadata": {
        "execution": {
          "iopub.status.busy": "2021-08-25T18:29:10.714498Z",
          "iopub.execute_input": "2021-08-25T18:29:10.714840Z",
          "iopub.status.idle": "2021-08-25T18:29:10.724093Z",
          "shell.execute_reply.started": "2021-08-25T18:29:10.714812Z",
          "shell.execute_reply": "2021-08-25T18:29:10.723350Z"
        },
        "trusted": true,
        "id": "aetXopcc2twY",
        "outputId": "0a5330af-c790-4738-8553-134ccc9b7d81"
      },
      "source": [
        "df['Size'].shape"
      ],
      "execution_count": null,
      "outputs": [
        {
          "execution_count": 32,
          "output_type": "execute_result",
          "data": {
            "text/plain": "(10840,)"
          },
          "metadata": {}
        }
      ]
    },
    {
      "cell_type": "code",
      "metadata": {
        "execution": {
          "iopub.status.busy": "2021-08-25T18:29:10.725405Z",
          "iopub.execute_input": "2021-08-25T18:29:10.725979Z",
          "iopub.status.idle": "2021-08-25T18:29:10.758587Z",
          "shell.execute_reply.started": "2021-08-25T18:29:10.725948Z",
          "shell.execute_reply": "2021-08-25T18:29:10.757857Z"
        },
        "trusted": true,
        "id": "2yrtECtG2twZ",
        "outputId": "ddc356d6-26f6-4c91-eb51-925af2296976"
      },
      "source": [
        "size_in_mb = df['Size'][df['Size'].str.contains('M')]\n",
        "size_in_mb = size_in_mb.str.replace('M','')\n",
        "size_in_mb = pd.to_numeric(size_in_mb)\n",
        "size_in_mb.dtype"
      ],
      "execution_count": null,
      "outputs": [
        {
          "execution_count": 33,
          "output_type": "execute_result",
          "data": {
            "text/plain": "dtype('float64')"
          },
          "metadata": {}
        }
      ]
    },
    {
      "cell_type": "code",
      "metadata": {
        "execution": {
          "iopub.status.busy": "2021-08-25T18:29:10.760028Z",
          "iopub.execute_input": "2021-08-25T18:29:10.760583Z",
          "iopub.status.idle": "2021-08-25T18:29:10.768273Z",
          "shell.execute_reply.started": "2021-08-25T18:29:10.760512Z",
          "shell.execute_reply": "2021-08-25T18:29:10.766956Z"
        },
        "trusted": true,
        "id": "aMvYp0w32twZ",
        "outputId": "61fb4e27-ac7f-430e-b233-801ceb5c0a40"
      },
      "source": [
        "size_in_mb.shape"
      ],
      "execution_count": null,
      "outputs": [
        {
          "execution_count": 34,
          "output_type": "execute_result",
          "data": {
            "text/plain": "(8829,)"
          },
          "metadata": {}
        }
      ]
    },
    {
      "cell_type": "code",
      "metadata": {
        "execution": {
          "iopub.status.busy": "2021-08-25T18:29:10.769848Z",
          "iopub.execute_input": "2021-08-25T18:29:10.770573Z",
          "iopub.status.idle": "2021-08-25T18:29:10.789382Z",
          "shell.execute_reply.started": "2021-08-25T18:29:10.770530Z",
          "shell.execute_reply": "2021-08-25T18:29:10.788412Z"
        },
        "trusted": true,
        "id": "wAYrtV3-2twZ",
        "outputId": "a46be7d7-7e67-479e-b1ef-2657bda8cddd"
      },
      "source": [
        "size_in_kb = df['Size'][(df['Size'].str.contains('k'))]\n",
        "size_in_kb = size_in_kb.str.replace('k','')\n",
        "size_in_kb = pd.to_numeric(size_in_kb)\n",
        "size_in_kb.dtype"
      ],
      "execution_count": null,
      "outputs": [
        {
          "execution_count": 35,
          "output_type": "execute_result",
          "data": {
            "text/plain": "dtype('float64')"
          },
          "metadata": {}
        }
      ]
    },
    {
      "cell_type": "code",
      "metadata": {
        "execution": {
          "iopub.status.busy": "2021-08-25T18:29:10.791022Z",
          "iopub.execute_input": "2021-08-25T18:29:10.791668Z",
          "iopub.status.idle": "2021-08-25T18:29:10.798751Z",
          "shell.execute_reply.started": "2021-08-25T18:29:10.791608Z",
          "shell.execute_reply": "2021-08-25T18:29:10.797520Z"
        },
        "trusted": true,
        "id": "1bBOCVPn2twa",
        "outputId": "65e6b31e-085a-4422-8231-916eb6a8dfa5"
      },
      "source": [
        "size_in_kb.shape"
      ],
      "execution_count": null,
      "outputs": [
        {
          "execution_count": 36,
          "output_type": "execute_result",
          "data": {
            "text/plain": "(316,)"
          },
          "metadata": {}
        }
      ]
    },
    {
      "cell_type": "markdown",
      "metadata": {
        "id": "QVR9SbPo2twa"
      },
      "source": [
        "# **Coonverting KB into MB**\n",
        "**KB = 0.001*MB**"
      ]
    },
    {
      "cell_type": "code",
      "metadata": {
        "execution": {
          "iopub.status.busy": "2021-08-25T18:29:10.800452Z",
          "iopub.execute_input": "2021-08-25T18:29:10.801275Z",
          "iopub.status.idle": "2021-08-25T18:29:10.808593Z",
          "shell.execute_reply.started": "2021-08-25T18:29:10.801138Z",
          "shell.execute_reply": "2021-08-25T18:29:10.807738Z"
        },
        "trusted": true,
        "id": "qtlup8vg2twa"
      },
      "source": [
        "size_in_kb = size_in_kb *0.001"
      ],
      "execution_count": null,
      "outputs": []
    },
    {
      "cell_type": "code",
      "metadata": {
        "execution": {
          "iopub.status.busy": "2021-08-25T18:29:10.809867Z",
          "iopub.execute_input": "2021-08-25T18:29:10.810441Z",
          "iopub.status.idle": "2021-08-25T18:29:10.824600Z",
          "shell.execute_reply.started": "2021-08-25T18:29:10.810405Z",
          "shell.execute_reply": "2021-08-25T18:29:10.823609Z"
        },
        "trusted": true,
        "id": "oBrEakOo2twa",
        "outputId": "caaa1e05-9b58-4605-ea2f-55b3ed20b6df"
      },
      "source": [
        "size_in_kb.head()"
      ],
      "execution_count": null,
      "outputs": [
        {
          "execution_count": 38,
          "output_type": "execute_result",
          "data": {
            "text/plain": "58     0.201\n209    0.023\n384    0.079\n450    0.118\n458    0.695\nName: Size, dtype: float64"
          },
          "metadata": {}
        }
      ]
    },
    {
      "cell_type": "code",
      "metadata": {
        "execution": {
          "iopub.status.busy": "2021-08-25T18:29:10.826244Z",
          "iopub.execute_input": "2021-08-25T18:29:10.827088Z",
          "iopub.status.idle": "2021-08-25T18:29:10.842932Z",
          "shell.execute_reply.started": "2021-08-25T18:29:10.827040Z",
          "shell.execute_reply": "2021-08-25T18:29:10.841988Z"
        },
        "trusted": true,
        "id": "NyxlnhOQ2twa"
      },
      "source": [
        "#Replacing Varies with device to -1\n",
        "varies_with_device = df['Size'][df['Size'] == 'Varies with device']\n",
        "varies_with_device.replace('Varies with device',-1,inplace=True)"
      ],
      "execution_count": null,
      "outputs": []
    },
    {
      "cell_type": "code",
      "metadata": {
        "execution": {
          "iopub.status.busy": "2021-08-25T18:29:10.844109Z",
          "iopub.execute_input": "2021-08-25T18:29:10.844581Z",
          "iopub.status.idle": "2021-08-25T18:29:10.855308Z",
          "shell.execute_reply.started": "2021-08-25T18:29:10.844542Z",
          "shell.execute_reply": "2021-08-25T18:29:10.854290Z"
        },
        "trusted": true,
        "id": "o9a_Zp-e2twb"
      },
      "source": [
        "Size = [None for i in range(10840)]"
      ],
      "execution_count": null,
      "outputs": []
    },
    {
      "cell_type": "code",
      "metadata": {
        "execution": {
          "iopub.status.busy": "2021-08-25T18:29:10.856596Z",
          "iopub.execute_input": "2021-08-25T18:29:10.857199Z",
          "iopub.status.idle": "2021-08-25T18:29:10.869012Z",
          "shell.execute_reply.started": "2021-08-25T18:29:10.857156Z",
          "shell.execute_reply": "2021-08-25T18:29:10.867839Z"
        },
        "trusted": true,
        "id": "6iLmWrXI2twb"
      },
      "source": [
        "try:\n",
        "    df.loc[10472] \n",
        "    # Deleted this row because of rating is 19 and 2 NaN values\n",
        "except:\n",
        "    print(\"Row 10472 does not exist\")"
      ],
      "execution_count": null,
      "outputs": []
    },
    {
      "cell_type": "code",
      "metadata": {
        "execution": {
          "iopub.status.busy": "2021-08-25T18:29:10.870325Z",
          "iopub.execute_input": "2021-08-25T18:29:10.870748Z",
          "iopub.status.idle": "2021-08-25T18:29:10.884101Z",
          "shell.execute_reply.started": "2021-08-25T18:29:10.870705Z",
          "shell.execute_reply": "2021-08-25T18:29:10.882621Z"
        },
        "trusted": true,
        "id": "fRmDa3gS2twb"
      },
      "source": [
        "def set_size(data):\n",
        "    for index in data.index:\n",
        "        try:\n",
        "            Size[index] = data.loc[index]\n",
        "        except:\n",
        "            print(index)"
      ],
      "execution_count": null,
      "outputs": []
    },
    {
      "cell_type": "code",
      "metadata": {
        "execution": {
          "iopub.status.busy": "2021-08-25T18:29:10.887546Z",
          "iopub.execute_input": "2021-08-25T18:29:10.888002Z",
          "iopub.status.idle": "2021-08-25T18:29:11.087515Z",
          "shell.execute_reply.started": "2021-08-25T18:29:10.887958Z",
          "shell.execute_reply": "2021-08-25T18:29:11.086433Z"
        },
        "trusted": true,
        "id": "p47qpsCj2twc"
      },
      "source": [
        "set_size(size_in_kb)\n",
        "set_size(size_in_mb)\n",
        "set_size(varies_with_device)"
      ],
      "execution_count": null,
      "outputs": []
    },
    {
      "cell_type": "code",
      "metadata": {
        "execution": {
          "iopub.status.busy": "2021-08-25T18:29:11.088926Z",
          "iopub.execute_input": "2021-08-25T18:29:11.089206Z",
          "iopub.status.idle": "2021-08-25T18:29:11.097291Z",
          "shell.execute_reply.started": "2021-08-25T18:29:11.089180Z",
          "shell.execute_reply": "2021-08-25T18:29:11.096301Z"
        },
        "trusted": true,
        "id": "RXziMRb42twc"
      },
      "source": [
        "df['Size'] = Size"
      ],
      "execution_count": null,
      "outputs": []
    },
    {
      "cell_type": "code",
      "metadata": {
        "execution": {
          "iopub.status.busy": "2021-08-25T18:29:11.098575Z",
          "iopub.execute_input": "2021-08-25T18:29:11.098915Z",
          "iopub.status.idle": "2021-08-25T18:29:11.118942Z",
          "shell.execute_reply.started": "2021-08-25T18:29:11.098885Z",
          "shell.execute_reply": "2021-08-25T18:29:11.118129Z"
        },
        "trusted": true,
        "id": "Ldrz-qhe2twc",
        "outputId": "833b9be2-1a0d-40c4-edbe-9f5dc8ca6930"
      },
      "source": [
        "df.head()"
      ],
      "execution_count": null,
      "outputs": [
        {
          "execution_count": 45,
          "output_type": "execute_result",
          "data": {
            "text/plain": "                                                 App        Category  Rating  \\\n0     Photo Editor & Candy Camera & Grid & ScrapBook  ART_AND_DESIGN     4.1   \n1                                Coloring book moana  ART_AND_DESIGN     3.9   \n2  U Launcher Lite – FREE Live Cool Themes, Hide ...  ART_AND_DESIGN     4.7   \n3                              Sketch - Draw & Paint  ART_AND_DESIGN     4.5   \n4              Pixel Draw - Number Art Coloring Book  ART_AND_DESIGN     4.3   \n\n   Reviews  Size     Installs  Type Price Content Rating      Last Updated  \\\n0      159  19.0      10,000+  Free     0       Everyone   January 7, 2018   \n1      967  14.0     500,000+  Free     0       Everyone  January 15, 2018   \n2    87510   8.7   5,000,000+  Free     0       Everyone    August 1, 2018   \n3   215644  25.0  50,000,000+  Free     0           Teen      June 8, 2018   \n4      967   2.8     100,000+  Free     0       Everyone     June 20, 2018   \n\n          Current Ver   Android Ver  \n0               1.0.0  4.0.3 and up  \n1               2.0.0  4.0.3 and up  \n2               1.2.4  4.0.3 and up  \n3  Varies with device    4.2 and up  \n4                 1.1    4.4 and up  ",
            "text/html": "<div>\n<style scoped>\n    .dataframe tbody tr th:only-of-type {\n        vertical-align: middle;\n    }\n\n    .dataframe tbody tr th {\n        vertical-align: top;\n    }\n\n    .dataframe thead th {\n        text-align: right;\n    }\n</style>\n<table border=\"1\" class=\"dataframe\">\n  <thead>\n    <tr style=\"text-align: right;\">\n      <th></th>\n      <th>App</th>\n      <th>Category</th>\n      <th>Rating</th>\n      <th>Reviews</th>\n      <th>Size</th>\n      <th>Installs</th>\n      <th>Type</th>\n      <th>Price</th>\n      <th>Content Rating</th>\n      <th>Last Updated</th>\n      <th>Current Ver</th>\n      <th>Android Ver</th>\n    </tr>\n  </thead>\n  <tbody>\n    <tr>\n      <th>0</th>\n      <td>Photo Editor &amp; Candy Camera &amp; Grid &amp; ScrapBook</td>\n      <td>ART_AND_DESIGN</td>\n      <td>4.1</td>\n      <td>159</td>\n      <td>19.0</td>\n      <td>10,000+</td>\n      <td>Free</td>\n      <td>0</td>\n      <td>Everyone</td>\n      <td>January 7, 2018</td>\n      <td>1.0.0</td>\n      <td>4.0.3 and up</td>\n    </tr>\n    <tr>\n      <th>1</th>\n      <td>Coloring book moana</td>\n      <td>ART_AND_DESIGN</td>\n      <td>3.9</td>\n      <td>967</td>\n      <td>14.0</td>\n      <td>500,000+</td>\n      <td>Free</td>\n      <td>0</td>\n      <td>Everyone</td>\n      <td>January 15, 2018</td>\n      <td>2.0.0</td>\n      <td>4.0.3 and up</td>\n    </tr>\n    <tr>\n      <th>2</th>\n      <td>U Launcher Lite – FREE Live Cool Themes, Hide ...</td>\n      <td>ART_AND_DESIGN</td>\n      <td>4.7</td>\n      <td>87510</td>\n      <td>8.7</td>\n      <td>5,000,000+</td>\n      <td>Free</td>\n      <td>0</td>\n      <td>Everyone</td>\n      <td>August 1, 2018</td>\n      <td>1.2.4</td>\n      <td>4.0.3 and up</td>\n    </tr>\n    <tr>\n      <th>3</th>\n      <td>Sketch - Draw &amp; Paint</td>\n      <td>ART_AND_DESIGN</td>\n      <td>4.5</td>\n      <td>215644</td>\n      <td>25.0</td>\n      <td>50,000,000+</td>\n      <td>Free</td>\n      <td>0</td>\n      <td>Teen</td>\n      <td>June 8, 2018</td>\n      <td>Varies with device</td>\n      <td>4.2 and up</td>\n    </tr>\n    <tr>\n      <th>4</th>\n      <td>Pixel Draw - Number Art Coloring Book</td>\n      <td>ART_AND_DESIGN</td>\n      <td>4.3</td>\n      <td>967</td>\n      <td>2.8</td>\n      <td>100,000+</td>\n      <td>Free</td>\n      <td>0</td>\n      <td>Everyone</td>\n      <td>June 20, 2018</td>\n      <td>1.1</td>\n      <td>4.4 and up</td>\n    </tr>\n  </tbody>\n</table>\n</div>"
          },
          "metadata": {}
        }
      ]
    },
    {
      "cell_type": "markdown",
      "metadata": {
        "id": "2EaEJ85I2twc"
      },
      "source": [
        "# **Converting Installs column to numeric type**"
      ]
    },
    {
      "cell_type": "code",
      "metadata": {
        "execution": {
          "iopub.status.busy": "2021-08-25T18:29:11.119918Z",
          "iopub.execute_input": "2021-08-25T18:29:11.120295Z",
          "iopub.status.idle": "2021-08-25T18:29:11.163316Z",
          "shell.execute_reply.started": "2021-08-25T18:29:11.120268Z",
          "shell.execute_reply": "2021-08-25T18:29:11.162214Z"
        },
        "trusted": true,
        "id": "mTMQmnae2twd",
        "outputId": "e8b2663a-770c-4a38-b5b7-cd68fe09932d"
      },
      "source": [
        "df['Installs'] = pd.to_numeric(df['Installs'].str.replace(r'\\D+','',regex=True))\n",
        "df['Installs'].dtype"
      ],
      "execution_count": null,
      "outputs": [
        {
          "execution_count": 46,
          "output_type": "execute_result",
          "data": {
            "text/plain": "dtype('int64')"
          },
          "metadata": {}
        }
      ]
    },
    {
      "cell_type": "code",
      "metadata": {
        "execution": {
          "iopub.status.busy": "2021-08-25T18:29:11.164430Z",
          "iopub.execute_input": "2021-08-25T18:29:11.164734Z",
          "iopub.status.idle": "2021-08-25T18:29:11.312792Z",
          "shell.execute_reply.started": "2021-08-25T18:29:11.164705Z",
          "shell.execute_reply": "2021-08-25T18:29:11.311797Z"
        },
        "trusted": true,
        "id": "6mGTPs6V2twd",
        "outputId": "ed0b1b8a-0f73-4fe4-88cc-30c3fe33bc22"
      },
      "source": [
        "df['Installs'].plot(kind='line')\n",
        "plt.show()"
      ],
      "execution_count": null,
      "outputs": [
        {
          "output_type": "display_data",
          "data": {
            "text/plain": "<Figure size 432x288 with 1 Axes>",
            "image/png": "[encoded data removed]"
          },
          "metadata": {
            "needs_background": "light"
          }
        }
      ]
    },
    {
      "cell_type": "markdown",
      "metadata": {
        "id": "IhLA8F1V2twd"
      },
      "source": [
        "# **Type Column**"
      ]
    },
    {
      "cell_type": "code",
      "metadata": {
        "execution": {
          "iopub.status.busy": "2021-08-25T18:29:11.316107Z",
          "iopub.execute_input": "2021-08-25T18:29:11.316414Z",
          "iopub.status.idle": "2021-08-25T18:29:11.417281Z",
          "shell.execute_reply.started": "2021-08-25T18:29:11.316386Z",
          "shell.execute_reply": "2021-08-25T18:29:11.416403Z"
        },
        "trusted": true,
        "id": "qM1L3zyw2twd",
        "outputId": "f968502a-1841-42c0-a8db-8d161fb0c505"
      },
      "source": [
        "df['Type'].value_counts().plot(kind='pie',autopct=\"%.2f\")\n",
        "plt.show()"
      ],
      "execution_count": null,
      "outputs": [
        {
          "output_type": "display_data",
          "data": {
            "text/plain": "<Figure size 432x288 with 1 Axes>",
            "image/png": "[encoded data removed]"
          },
          "metadata": {}
        }
      ]
    },
    {
      "cell_type": "code",
      "metadata": {
        "execution": {
          "iopub.status.busy": "2021-08-25T18:29:11.418553Z",
          "iopub.execute_input": "2021-08-25T18:29:11.418856Z",
          "iopub.status.idle": "2021-08-25T18:29:11.429274Z",
          "shell.execute_reply.started": "2021-08-25T18:29:11.418829Z",
          "shell.execute_reply": "2021-08-25T18:29:11.428164Z"
        },
        "trusted": true,
        "id": "mTrcDEs_2twd",
        "outputId": "805d0226-b4cb-4705-a7a1-8a0c3f5841ae"
      },
      "source": [
        "df['Type'].value_counts()"
      ],
      "execution_count": null,
      "outputs": [
        {
          "execution_count": 49,
          "output_type": "execute_result",
          "data": {
            "text/plain": "Free    10039\nPaid      800\nName: Type, dtype: int64"
          },
          "metadata": {}
        }
      ]
    },
    {
      "cell_type": "code",
      "metadata": {
        "execution": {
          "iopub.status.busy": "2021-08-25T18:29:11.430625Z",
          "iopub.execute_input": "2021-08-25T18:29:11.431093Z",
          "iopub.status.idle": "2021-08-25T18:29:11.451744Z",
          "shell.execute_reply.started": "2021-08-25T18:29:11.431035Z",
          "shell.execute_reply": "2021-08-25T18:29:11.450686Z"
        },
        "trusted": true,
        "id": "za-_lXNF2twe",
        "outputId": "487f745d-7f73-42b1-f4f2-a43127789aae"
      },
      "source": [
        "pd.to_numeric(df['Price'][df['Type'] == 'Free']).sum()"
      ],
      "execution_count": null,
      "outputs": [
        {
          "execution_count": 50,
          "output_type": "execute_result",
          "data": {
            "text/plain": "0"
          },
          "metadata": {}
        }
      ]
    },
    {
      "cell_type": "code",
      "metadata": {
        "execution": {
          "iopub.status.busy": "2021-08-25T18:29:11.453105Z",
          "iopub.execute_input": "2021-08-25T18:29:11.453386Z",
          "iopub.status.idle": "2021-08-25T18:29:11.471735Z",
          "shell.execute_reply.started": "2021-08-25T18:29:11.453359Z",
          "shell.execute_reply": "2021-08-25T18:29:11.470730Z"
        },
        "trusted": true,
        "id": "62hmS7y72twe"
      },
      "source": [
        "df['Price'] = df['Price'].str.replace(r'\\$','',regex=True)"
      ],
      "execution_count": null,
      "outputs": []
    },
    {
      "cell_type": "code",
      "metadata": {
        "execution": {
          "iopub.status.busy": "2021-08-25T18:29:11.473515Z",
          "iopub.execute_input": "2021-08-25T18:29:11.474014Z",
          "iopub.status.idle": "2021-08-25T18:29:12.182934Z",
          "shell.execute_reply.started": "2021-08-25T18:29:11.473957Z",
          "shell.execute_reply": "2021-08-25T18:29:12.181885Z"
        },
        "trusted": true,
        "id": "DpOMJj7g2twe",
        "outputId": "c6e742da-bc06-4052-fd32-235e87bbbee3"
      },
      "source": [
        "df['Price'] = pd.to_numeric(df['Price'])\n",
        "df['Price'].plot(kind='hist')\n",
        "plt.title(\"Price of Apps(Histogram)\")\n",
        "plt.yscale('log')"
      ],
      "execution_count": null,
      "outputs": [
        {
          "output_type": "display_data",
          "data": {
            "text/plain": "<Figure size 432x288 with 1 Axes>",
            "image/png": "[encoded data removed]"
          },
          "metadata": {
            "needs_background": "light"
          }
        }
      ]
    },
    {
      "cell_type": "markdown",
      "metadata": {
        "id": "gJ4bOD2a2twe"
      },
      "source": [
        "# **Content Rating**"
      ]
    },
    {
      "cell_type": "code",
      "metadata": {
        "execution": {
          "iopub.status.busy": "2021-08-25T18:29:12.184154Z",
          "iopub.execute_input": "2021-08-25T18:29:12.184435Z",
          "iopub.status.idle": "2021-08-25T18:29:12.194868Z",
          "shell.execute_reply.started": "2021-08-25T18:29:12.184408Z",
          "shell.execute_reply": "2021-08-25T18:29:12.193861Z"
        },
        "trusted": true,
        "id": "STqoLUi92twf",
        "outputId": "6c5a553f-087f-492c-e895-4c6553b93188"
      },
      "source": [
        "df['Content Rating'].value_counts()"
      ],
      "execution_count": null,
      "outputs": [
        {
          "execution_count": 53,
          "output_type": "execute_result",
          "data": {
            "text/plain": "Everyone           8714\nTeen               1208\nMature 17+          499\nEveryone 10+        414\nAdults only 18+       3\nUnrated               2\nName: Content Rating, dtype: int64"
          },
          "metadata": {}
        }
      ]
    },
    {
      "cell_type": "markdown",
      "metadata": {
        "id": "f-VR1OwX2twf"
      },
      "source": [
        "**Setting 18+ and Unrated apps to Everyone**"
      ]
    },
    {
      "cell_type": "code",
      "metadata": {
        "execution": {
          "iopub.status.busy": "2021-08-25T18:29:12.196072Z",
          "iopub.execute_input": "2021-08-25T18:29:12.196377Z",
          "iopub.status.idle": "2021-08-25T18:29:12.215586Z",
          "shell.execute_reply.started": "2021-08-25T18:29:12.196338Z",
          "shell.execute_reply": "2021-08-25T18:29:12.214723Z"
        },
        "trusted": true,
        "id": "RsvTq_qV2twf",
        "outputId": "da753faa-bf4f-4a3a-dd6f-2389425ef4cb"
      },
      "source": [
        "df['Content Rating'] = df['Content Rating'].replace([\"Adults only 18+\",\"Unrated\"],[\"Everyone\",\"Everyone\"])\n",
        "df['Content Rating'].value_counts()"
      ],
      "execution_count": null,
      "outputs": [
        {
          "execution_count": 54,
          "output_type": "execute_result",
          "data": {
            "text/plain": "Everyone        8719\nTeen            1208\nMature 17+       499\nEveryone 10+     414\nName: Content Rating, dtype: int64"
          },
          "metadata": {}
        }
      ]
    },
    {
      "cell_type": "code",
      "metadata": {
        "execution": {
          "iopub.status.busy": "2021-08-25T18:29:12.216848Z",
          "iopub.execute_input": "2021-08-25T18:29:12.217159Z",
          "iopub.status.idle": "2021-08-25T18:29:12.339257Z",
          "shell.execute_reply.started": "2021-08-25T18:29:12.217132Z",
          "shell.execute_reply": "2021-08-25T18:29:12.338324Z"
        },
        "trusted": true,
        "id": "5nGUNPoF2twf",
        "outputId": "7e598264-475c-4fc5-b02c-704f6e7f463a"
      },
      "source": [
        "df['Content Rating'].value_counts().plot(kind='pie',autopct=\"%.2f\")\n",
        "plt.show()"
      ],
      "execution_count": null,
      "outputs": [
        {
          "output_type": "display_data",
          "data": {
            "text/plain": "<Figure size 432x288 with 1 Axes>",
            "image/png": "[encoded data removed]"
          },
          "metadata": {}
        }
      ]
    },
    {
      "cell_type": "markdown",
      "metadata": {
        "id": "tfcijbzb2twf"
      },
      "source": [
        "# **Dropping \"Last Updated\" column**"
      ]
    },
    {
      "cell_type": "code",
      "metadata": {
        "execution": {
          "iopub.status.busy": "2021-08-25T18:29:12.342329Z",
          "iopub.execute_input": "2021-08-25T18:29:12.342613Z",
          "iopub.status.idle": "2021-08-25T18:29:12.351411Z",
          "shell.execute_reply.started": "2021-08-25T18:29:12.342585Z",
          "shell.execute_reply": "2021-08-25T18:29:12.350723Z"
        },
        "trusted": true,
        "id": "2pBy690Q2twg",
        "outputId": "8c210be7-e180-4787-8517-cf4ea22a4c26"
      },
      "source": [
        "df.drop('Last Updated',axis=1,inplace=True)\n",
        "df.shape"
      ],
      "execution_count": null,
      "outputs": [
        {
          "execution_count": 56,
          "output_type": "execute_result",
          "data": {
            "text/plain": "(10840, 11)"
          },
          "metadata": {}
        }
      ]
    },
    {
      "cell_type": "code",
      "metadata": {
        "execution": {
          "iopub.status.busy": "2021-08-25T18:29:12.352806Z",
          "iopub.execute_input": "2021-08-25T18:29:12.353370Z",
          "iopub.status.idle": "2021-08-25T18:29:12.373174Z",
          "shell.execute_reply.started": "2021-08-25T18:29:12.353319Z",
          "shell.execute_reply": "2021-08-25T18:29:12.372499Z"
        },
        "trusted": true,
        "id": "mm1hRVNG2twg",
        "outputId": "9cd0dbc4-374f-4be4-f4ab-859115f33e53"
      },
      "source": [
        "df.head()"
      ],
      "execution_count": null,
      "outputs": [
        {
          "execution_count": 57,
          "output_type": "execute_result",
          "data": {
            "text/plain": "                                                 App        Category  Rating  \\\n0     Photo Editor & Candy Camera & Grid & ScrapBook  ART_AND_DESIGN     4.1   \n1                                Coloring book moana  ART_AND_DESIGN     3.9   \n2  U Launcher Lite – FREE Live Cool Themes, Hide ...  ART_AND_DESIGN     4.7   \n3                              Sketch - Draw & Paint  ART_AND_DESIGN     4.5   \n4              Pixel Draw - Number Art Coloring Book  ART_AND_DESIGN     4.3   \n\n   Reviews  Size  Installs  Type  Price Content Rating         Current Ver  \\\n0      159  19.0     10000  Free    0.0       Everyone               1.0.0   \n1      967  14.0    500000  Free    0.0       Everyone               2.0.0   \n2    87510   8.7   5000000  Free    0.0       Everyone               1.2.4   \n3   215644  25.0  50000000  Free    0.0           Teen  Varies with device   \n4      967   2.8    100000  Free    0.0       Everyone                 1.1   \n\n    Android Ver  \n0  4.0.3 and up  \n1  4.0.3 and up  \n2  4.0.3 and up  \n3    4.2 and up  \n4    4.4 and up  ",
            "text/html": "<div>\n<style scoped>\n    .dataframe tbody tr th:only-of-type {\n        vertical-align: middle;\n    }\n\n    .dataframe tbody tr th {\n        vertical-align: top;\n    }\n\n    .dataframe thead th {\n        text-align: right;\n    }\n</style>\n<table border=\"1\" class=\"dataframe\">\n  <thead>\n    <tr style=\"text-align: right;\">\n      <th></th>\n      <th>App</th>\n      <th>Category</th>\n      <th>Rating</th>\n      <th>Reviews</th>\n      <th>Size</th>\n      <th>Installs</th>\n      <th>Type</th>\n      <th>Price</th>\n      <th>Content Rating</th>\n      <th>Current Ver</th>\n      <th>Android Ver</th>\n    </tr>\n  </thead>\n  <tbody>\n    <tr>\n      <th>0</th>\n      <td>Photo Editor &amp; Candy Camera &amp; Grid &amp; ScrapBook</td>\n      <td>ART_AND_DESIGN</td>\n      <td>4.1</td>\n      <td>159</td>\n      <td>19.0</td>\n      <td>10000</td>\n      <td>Free</td>\n      <td>0.0</td>\n      <td>Everyone</td>\n      <td>1.0.0</td>\n      <td>4.0.3 and up</td>\n    </tr>\n    <tr>\n      <th>1</th>\n      <td>Coloring book moana</td>\n      <td>ART_AND_DESIGN</td>\n      <td>3.9</td>\n      <td>967</td>\n      <td>14.0</td>\n      <td>500000</td>\n      <td>Free</td>\n      <td>0.0</td>\n      <td>Everyone</td>\n      <td>2.0.0</td>\n      <td>4.0.3 and up</td>\n    </tr>\n    <tr>\n      <th>2</th>\n      <td>U Launcher Lite – FREE Live Cool Themes, Hide ...</td>\n      <td>ART_AND_DESIGN</td>\n      <td>4.7</td>\n      <td>87510</td>\n      <td>8.7</td>\n      <td>5000000</td>\n      <td>Free</td>\n      <td>0.0</td>\n      <td>Everyone</td>\n      <td>1.2.4</td>\n      <td>4.0.3 and up</td>\n    </tr>\n    <tr>\n      <th>3</th>\n      <td>Sketch - Draw &amp; Paint</td>\n      <td>ART_AND_DESIGN</td>\n      <td>4.5</td>\n      <td>215644</td>\n      <td>25.0</td>\n      <td>50000000</td>\n      <td>Free</td>\n      <td>0.0</td>\n      <td>Teen</td>\n      <td>Varies with device</td>\n      <td>4.2 and up</td>\n    </tr>\n    <tr>\n      <th>4</th>\n      <td>Pixel Draw - Number Art Coloring Book</td>\n      <td>ART_AND_DESIGN</td>\n      <td>4.3</td>\n      <td>967</td>\n      <td>2.8</td>\n      <td>100000</td>\n      <td>Free</td>\n      <td>0.0</td>\n      <td>Everyone</td>\n      <td>1.1</td>\n      <td>4.4 and up</td>\n    </tr>\n  </tbody>\n</table>\n</div>"
          },
          "metadata": {}
        }
      ]
    },
    {
      "cell_type": "code",
      "metadata": {
        "execution": {
          "iopub.status.busy": "2021-08-25T18:29:12.374442Z",
          "iopub.execute_input": "2021-08-25T18:29:12.374987Z",
          "iopub.status.idle": "2021-08-25T18:29:12.386926Z",
          "shell.execute_reply.started": "2021-08-25T18:29:12.374955Z",
          "shell.execute_reply": "2021-08-25T18:29:12.386025Z"
        },
        "trusted": true,
        "id": "flOQtfXZ2twg"
      },
      "source": [
        "\n",
        "other_versions = df['Android Ver'].value_counts()"
      ],
      "execution_count": null,
      "outputs": []
    },
    {
      "cell_type": "markdown",
      "metadata": {
        "id": "SQyitEEg2twg"
      },
      "source": [
        "# **Dropping \"Current Ver\" column**"
      ]
    },
    {
      "cell_type": "code",
      "metadata": {
        "execution": {
          "iopub.status.busy": "2021-08-25T18:29:12.388272Z",
          "iopub.execute_input": "2021-08-25T18:29:12.388563Z",
          "iopub.status.idle": "2021-08-25T18:29:12.414074Z",
          "shell.execute_reply.started": "2021-08-25T18:29:12.388533Z",
          "shell.execute_reply": "2021-08-25T18:29:12.413145Z"
        },
        "trusted": true,
        "id": "AwSddWzS2twg",
        "outputId": "54016d03-a2ef-437d-8b9f-232ec3f08e20"
      },
      "source": [
        "df.drop('Current Ver',axis=1,inplace=True)\n",
        "df.head()"
      ],
      "execution_count": null,
      "outputs": [
        {
          "execution_count": 59,
          "output_type": "execute_result",
          "data": {
            "text/plain": "                                                 App        Category  Rating  \\\n0     Photo Editor & Candy Camera & Grid & ScrapBook  ART_AND_DESIGN     4.1   \n1                                Coloring book moana  ART_AND_DESIGN     3.9   \n2  U Launcher Lite – FREE Live Cool Themes, Hide ...  ART_AND_DESIGN     4.7   \n3                              Sketch - Draw & Paint  ART_AND_DESIGN     4.5   \n4              Pixel Draw - Number Art Coloring Book  ART_AND_DESIGN     4.3   \n\n   Reviews  Size  Installs  Type  Price Content Rating   Android Ver  \n0      159  19.0     10000  Free    0.0       Everyone  4.0.3 and up  \n1      967  14.0    500000  Free    0.0       Everyone  4.0.3 and up  \n2    87510   8.7   5000000  Free    0.0       Everyone  4.0.3 and up  \n3   215644  25.0  50000000  Free    0.0           Teen    4.2 and up  \n4      967   2.8    100000  Free    0.0       Everyone    4.4 and up  ",
            "text/html": "<div>\n<style scoped>\n    .dataframe tbody tr th:only-of-type {\n        vertical-align: middle;\n    }\n\n    .dataframe tbody tr th {\n        vertical-align: top;\n    }\n\n    .dataframe thead th {\n        text-align: right;\n    }\n</style>\n<table border=\"1\" class=\"dataframe\">\n  <thead>\n    <tr style=\"text-align: right;\">\n      <th></th>\n      <th>App</th>\n      <th>Category</th>\n      <th>Rating</th>\n      <th>Reviews</th>\n      <th>Size</th>\n      <th>Installs</th>\n      <th>Type</th>\n      <th>Price</th>\n      <th>Content Rating</th>\n      <th>Android Ver</th>\n    </tr>\n  </thead>\n  <tbody>\n    <tr>\n      <th>0</th>\n      <td>Photo Editor &amp; Candy Camera &amp; Grid &amp; ScrapBook</td>\n      <td>ART_AND_DESIGN</td>\n      <td>4.1</td>\n      <td>159</td>\n      <td>19.0</td>\n      <td>10000</td>\n      <td>Free</td>\n      <td>0.0</td>\n      <td>Everyone</td>\n      <td>4.0.3 and up</td>\n    </tr>\n    <tr>\n      <th>1</th>\n      <td>Coloring book moana</td>\n      <td>ART_AND_DESIGN</td>\n      <td>3.9</td>\n      <td>967</td>\n      <td>14.0</td>\n      <td>500000</td>\n      <td>Free</td>\n      <td>0.0</td>\n      <td>Everyone</td>\n      <td>4.0.3 and up</td>\n    </tr>\n    <tr>\n      <th>2</th>\n      <td>U Launcher Lite – FREE Live Cool Themes, Hide ...</td>\n      <td>ART_AND_DESIGN</td>\n      <td>4.7</td>\n      <td>87510</td>\n      <td>8.7</td>\n      <td>5000000</td>\n      <td>Free</td>\n      <td>0.0</td>\n      <td>Everyone</td>\n      <td>4.0.3 and up</td>\n    </tr>\n    <tr>\n      <th>3</th>\n      <td>Sketch - Draw &amp; Paint</td>\n      <td>ART_AND_DESIGN</td>\n      <td>4.5</td>\n      <td>215644</td>\n      <td>25.0</td>\n      <td>50000000</td>\n      <td>Free</td>\n      <td>0.0</td>\n      <td>Teen</td>\n      <td>4.2 and up</td>\n    </tr>\n    <tr>\n      <th>4</th>\n      <td>Pixel Draw - Number Art Coloring Book</td>\n      <td>ART_AND_DESIGN</td>\n      <td>4.3</td>\n      <td>967</td>\n      <td>2.8</td>\n      <td>100000</td>\n      <td>Free</td>\n      <td>0.0</td>\n      <td>Everyone</td>\n      <td>4.4 and up</td>\n    </tr>\n  </tbody>\n</table>\n</div>"
          },
          "metadata": {}
        }
      ]
    },
    {
      "cell_type": "markdown",
      "metadata": {
        "id": "UiMxlG7i2twh"
      },
      "source": [
        "# **Android Version**"
      ]
    },
    {
      "cell_type": "code",
      "metadata": {
        "execution": {
          "iopub.status.busy": "2021-08-25T18:29:12.415283Z",
          "iopub.execute_input": "2021-08-25T18:29:12.415577Z",
          "iopub.status.idle": "2021-08-25T18:29:13.046429Z",
          "shell.execute_reply.started": "2021-08-25T18:29:12.415548Z",
          "shell.execute_reply": "2021-08-25T18:29:13.045704Z"
        },
        "trusted": true,
        "id": "RM-GNHOO2twh",
        "outputId": "58b218d7-369b-4596-ccb4-c151c27f864d"
      },
      "source": [
        "plt.figure(figsize=(10,10))\n",
        "sns.countplot(y=df['Android Ver'])\n",
        "plt.xscale('symlog')\n",
        "plt.show()"
      ],
      "execution_count": null,
      "outputs": [
        {
          "output_type": "display_data",
          "data": {
            "text/plain": "<Figure size 720x720 with 1 Axes>",
            "image/png": "[encoded data removed]"
          },
          "metadata": {
            "needs_background": "light"
          }
        }
      ]
    },
    {
      "cell_type": "markdown",
      "metadata": {
        "id": "q4ytj1ux2twh"
      },
      "source": [
        "# **Setting Android Versions to others whose frequency is <100**"
      ]
    },
    {
      "cell_type": "code",
      "metadata": {
        "scrolled": true,
        "execution": {
          "iopub.status.busy": "2021-08-25T18:29:13.047567Z",
          "iopub.execute_input": "2021-08-25T18:29:13.048052Z",
          "iopub.status.idle": "2021-08-25T18:29:13.055365Z",
          "shell.execute_reply.started": "2021-08-25T18:29:13.048020Z",
          "shell.execute_reply": "2021-08-25T18:29:13.054338Z"
        },
        "trusted": true,
        "id": "e6zIVBYT2twh",
        "outputId": "3ccd90cc-daa4-46e5-bfe2-1c522cc2b6c9"
      },
      "source": [
        "#Android Verions Count <=100\n",
        "other_versions[other_versions<=100].sum()"
      ],
      "execution_count": null,
      "outputs": [
        {
          "execution_count": 61,
          "output_type": "execute_result",
          "data": {
            "text/plain": "263"
          },
          "metadata": {}
        }
      ]
    },
    {
      "cell_type": "code",
      "metadata": {
        "execution": {
          "iopub.status.busy": "2021-08-25T18:29:13.056951Z",
          "iopub.execute_input": "2021-08-25T18:29:13.057371Z",
          "iopub.status.idle": "2021-08-25T18:29:13.070873Z",
          "shell.execute_reply.started": "2021-08-25T18:29:13.057329Z",
          "shell.execute_reply": "2021-08-25T18:29:13.070013Z"
        },
        "trusted": true,
        "id": "ojgB7E6H2twi",
        "outputId": "735df558-a86e-43af-ea8c-8c8f22c8ec96"
      },
      "source": [
        "other_versions = other_versions[other_versions<=100].keys()\n",
        "other_versions"
      ],
      "execution_count": null,
      "outputs": [
        {
          "execution_count": 62,
          "output_type": "execute_result",
          "data": {
            "text/plain": "Index(['6.0 and up', '7.0 and up', '3.2 and up', '2.0 and up', '5.1 and up',\n       '1.5 and up', '4.4W and up', '3.1 and up', '2.0.1 and up', '8.0 and up',\n       '7.1 and up', '4.0.3 - 7.1.1', '5.0 - 8.0', '1.0 and up', '5.0 - 7.1.1',\n       '7.0 - 7.1.1', '4.1 - 7.1.1', '5.0 - 6.0', '2.2 - 7.1.1'],\n      dtype='object')"
          },
          "metadata": {}
        }
      ]
    },
    {
      "cell_type": "code",
      "metadata": {
        "execution": {
          "iopub.status.busy": "2021-08-25T18:29:13.074264Z",
          "iopub.execute_input": "2021-08-25T18:29:13.074664Z",
          "iopub.status.idle": "2021-08-25T18:29:13.094714Z",
          "shell.execute_reply.started": "2021-08-25T18:29:13.074610Z",
          "shell.execute_reply": "2021-08-25T18:29:13.093788Z"
        },
        "trusted": true,
        "id": "s-jBslTg2twi"
      },
      "source": [
        "df['Android Ver'].replace(other_versions,['Others' for i in range(19)], inplace=True)"
      ],
      "execution_count": null,
      "outputs": []
    },
    {
      "cell_type": "code",
      "metadata": {
        "execution": {
          "iopub.status.busy": "2021-08-25T18:29:13.095940Z",
          "iopub.execute_input": "2021-08-25T18:29:13.096219Z",
          "iopub.status.idle": "2021-08-25T18:29:13.432748Z",
          "shell.execute_reply.started": "2021-08-25T18:29:13.096193Z",
          "shell.execute_reply": "2021-08-25T18:29:13.431711Z"
        },
        "trusted": true,
        "id": "orCe71Ol2twi",
        "outputId": "d6b4f32b-4dbc-4709-d1fa-be4adebd4b86"
      },
      "source": [
        "plt.figure(figsize=(10,10))\n",
        "sns.countplot(y=df['Android Ver'])\n",
        "plt.xscale('symlog')\n",
        "plt.title(\"Android Versions Frequency\")\n",
        "plt.show()"
      ],
      "execution_count": null,
      "outputs": [
        {
          "output_type": "display_data",
          "data": {
            "text/plain": "<Figure size 720x720 with 1 Axes>",
            "image/png": "[encoded data removed]"
          },
          "metadata": {
            "needs_background": "light"
          }
        }
      ]
    },
    {
      "cell_type": "code",
      "metadata": {
        "execution": {
          "iopub.status.busy": "2021-08-25T18:29:13.434163Z",
          "iopub.execute_input": "2021-08-25T18:29:13.434781Z",
          "iopub.status.idle": "2021-08-25T18:29:13.445648Z",
          "shell.execute_reply.started": "2021-08-25T18:29:13.434737Z",
          "shell.execute_reply": "2021-08-25T18:29:13.444801Z"
        },
        "trusted": true,
        "id": "wpA99lYw2twi",
        "outputId": "bbc3661b-56fe-4255-8b6e-45ebb6b60894"
      },
      "source": [
        "app_names = pd.DataFrame({'App':df['App']})\n",
        "app_names.head()"
      ],
      "execution_count": null,
      "outputs": [
        {
          "execution_count": 65,
          "output_type": "execute_result",
          "data": {
            "text/plain": "                                                 App\n0     Photo Editor & Candy Camera & Grid & ScrapBook\n1                                Coloring book moana\n2  U Launcher Lite – FREE Live Cool Themes, Hide ...\n3                              Sketch - Draw & Paint\n4              Pixel Draw - Number Art Coloring Book",
            "text/html": "<div>\n<style scoped>\n    .dataframe tbody tr th:only-of-type {\n        vertical-align: middle;\n    }\n\n    .dataframe tbody tr th {\n        vertical-align: top;\n    }\n\n    .dataframe thead th {\n        text-align: right;\n    }\n</style>\n<table border=\"1\" class=\"dataframe\">\n  <thead>\n    <tr style=\"text-align: right;\">\n      <th></th>\n      <th>App</th>\n    </tr>\n  </thead>\n  <tbody>\n    <tr>\n      <th>0</th>\n      <td>Photo Editor &amp; Candy Camera &amp; Grid &amp; ScrapBook</td>\n    </tr>\n    <tr>\n      <th>1</th>\n      <td>Coloring book moana</td>\n    </tr>\n    <tr>\n      <th>2</th>\n      <td>U Launcher Lite – FREE Live Cool Themes, Hide ...</td>\n    </tr>\n    <tr>\n      <th>3</th>\n      <td>Sketch - Draw &amp; Paint</td>\n    </tr>\n    <tr>\n      <th>4</th>\n      <td>Pixel Draw - Number Art Coloring Book</td>\n    </tr>\n  </tbody>\n</table>\n</div>"
          },
          "metadata": {}
        }
      ]
    },
    {
      "cell_type": "code",
      "metadata": {
        "execution": {
          "iopub.status.busy": "2021-08-25T18:29:13.452303Z",
          "iopub.execute_input": "2021-08-25T18:29:13.452758Z",
          "iopub.status.idle": "2021-08-25T18:29:13.471212Z",
          "shell.execute_reply.started": "2021-08-25T18:29:13.452728Z",
          "shell.execute_reply": "2021-08-25T18:29:13.470517Z"
        },
        "trusted": true,
        "id": "qSCVvs212twj",
        "outputId": "b5c54e22-3ac4-4e5e-cc55-f4902a800744"
      },
      "source": [
        "df.set_index('App',inplace=True)\n",
        "df.head()"
      ],
      "execution_count": null,
      "outputs": [
        {
          "execution_count": 66,
          "output_type": "execute_result",
          "data": {
            "text/plain": "                                                          Category  Rating  \\\nApp                                                                          \nPhoto Editor & Candy Camera & Grid & ScrapBook      ART_AND_DESIGN     4.1   \nColoring book moana                                 ART_AND_DESIGN     3.9   \nU Launcher Lite – FREE Live Cool Themes, Hide Apps  ART_AND_DESIGN     4.7   \nSketch - Draw & Paint                               ART_AND_DESIGN     4.5   \nPixel Draw - Number Art Coloring Book               ART_AND_DESIGN     4.3   \n\n                                                    Reviews  Size  Installs  \\\nApp                                                                           \nPhoto Editor & Candy Camera & Grid & ScrapBook          159  19.0     10000   \nColoring book moana                                     967  14.0    500000   \nU Launcher Lite – FREE Live Cool Themes, Hide Apps    87510   8.7   5000000   \nSketch - Draw & Paint                                215644  25.0  50000000   \nPixel Draw - Number Art Coloring Book                   967   2.8    100000   \n\n                                                    Type  Price  \\\nApp                                                               \nPhoto Editor & Candy Camera & Grid & ScrapBook      Free    0.0   \nColoring book moana                                 Free    0.0   \nU Launcher Lite – FREE Live Cool Themes, Hide Apps  Free    0.0   \nSketch - Draw & Paint                               Free    0.0   \nPixel Draw - Number Art Coloring Book               Free    0.0   \n\n                                                   Content Rating  \\\nApp                                                                 \nPhoto Editor & Candy Camera & Grid & ScrapBook           Everyone   \nColoring book moana                                      Everyone   \nU Launcher Lite – FREE Live Cool Themes, Hide Apps       Everyone   \nSketch - Draw & Paint                                        Teen   \nPixel Draw - Number Art Coloring Book                    Everyone   \n\n                                                     Android Ver  \nApp                                                               \nPhoto Editor & Candy Camera & Grid & ScrapBook      4.0.3 and up  \nColoring book moana                                 4.0.3 and up  \nU Launcher Lite – FREE Live Cool Themes, Hide Apps  4.0.3 and up  \nSketch - Draw & Paint                                 4.2 and up  \nPixel Draw - Number Art Coloring Book                 4.4 and up  ",
            "text/html": "<div>\n<style scoped>\n    .dataframe tbody tr th:only-of-type {\n        vertical-align: middle;\n    }\n\n    .dataframe tbody tr th {\n        vertical-align: top;\n    }\n\n    .dataframe thead th {\n        text-align: right;\n    }\n</style>\n<table border=\"1\" class=\"dataframe\">\n  <thead>\n    <tr style=\"text-align: right;\">\n      <th></th>\n      <th>Category</th>\n      <th>Rating</th>\n      <th>Reviews</th>\n      <th>Size</th>\n      <th>Installs</th>\n      <th>Type</th>\n      <th>Price</th>\n      <th>Content Rating</th>\n      <th>Android Ver</th>\n    </tr>\n    <tr>\n      <th>App</th>\n      <th></th>\n      <th></th>\n      <th></th>\n      <th></th>\n      <th></th>\n      <th></th>\n      <th></th>\n      <th></th>\n      <th></th>\n    </tr>\n  </thead>\n  <tbody>\n    <tr>\n      <th>Photo Editor &amp; Candy Camera &amp; Grid &amp; ScrapBook</th>\n      <td>ART_AND_DESIGN</td>\n      <td>4.1</td>\n      <td>159</td>\n      <td>19.0</td>\n      <td>10000</td>\n      <td>Free</td>\n      <td>0.0</td>\n      <td>Everyone</td>\n      <td>4.0.3 and up</td>\n    </tr>\n    <tr>\n      <th>Coloring book moana</th>\n      <td>ART_AND_DESIGN</td>\n      <td>3.9</td>\n      <td>967</td>\n      <td>14.0</td>\n      <td>500000</td>\n      <td>Free</td>\n      <td>0.0</td>\n      <td>Everyone</td>\n      <td>4.0.3 and up</td>\n    </tr>\n    <tr>\n      <th>U Launcher Lite – FREE Live Cool Themes, Hide Apps</th>\n      <td>ART_AND_DESIGN</td>\n      <td>4.7</td>\n      <td>87510</td>\n      <td>8.7</td>\n      <td>5000000</td>\n      <td>Free</td>\n      <td>0.0</td>\n      <td>Everyone</td>\n      <td>4.0.3 and up</td>\n    </tr>\n    <tr>\n      <th>Sketch - Draw &amp; Paint</th>\n      <td>ART_AND_DESIGN</td>\n      <td>4.5</td>\n      <td>215644</td>\n      <td>25.0</td>\n      <td>50000000</td>\n      <td>Free</td>\n      <td>0.0</td>\n      <td>Teen</td>\n      <td>4.2 and up</td>\n    </tr>\n    <tr>\n      <th>Pixel Draw - Number Art Coloring Book</th>\n      <td>ART_AND_DESIGN</td>\n      <td>4.3</td>\n      <td>967</td>\n      <td>2.8</td>\n      <td>100000</td>\n      <td>Free</td>\n      <td>0.0</td>\n      <td>Everyone</td>\n      <td>4.4 and up</td>\n    </tr>\n  </tbody>\n</table>\n</div>"
          },
          "metadata": {}
        }
      ]
    },
    {
      "cell_type": "markdown",
      "metadata": {
        "id": "zEUJRaAe2twj"
      },
      "source": [
        "# **One Hot Encoding**"
      ]
    },
    {
      "cell_type": "code",
      "metadata": {
        "execution": {
          "iopub.status.busy": "2021-08-25T18:29:13.473086Z",
          "iopub.execute_input": "2021-08-25T18:29:13.473585Z",
          "iopub.status.idle": "2021-08-25T18:29:13.491186Z",
          "shell.execute_reply.started": "2021-08-25T18:29:13.473554Z",
          "shell.execute_reply": "2021-08-25T18:29:13.490233Z"
        },
        "trusted": true,
        "id": "Oj8z5vQb2twj",
        "outputId": "12477b31-d4a2-4215-a703-5d09e83374af"
      },
      "source": [
        "df.dropna(how='any',inplace=True)\n",
        "df.shape"
      ],
      "execution_count": null,
      "outputs": [
        {
          "execution_count": 67,
          "output_type": "execute_result",
          "data": {
            "text/plain": "(10837, 9)"
          },
          "metadata": {}
        }
      ]
    },
    {
      "cell_type": "code",
      "metadata": {
        "execution": {
          "iopub.status.busy": "2021-08-25T18:29:13.492430Z",
          "iopub.execute_input": "2021-08-25T18:29:13.492724Z",
          "iopub.status.idle": "2021-08-25T18:29:13.499802Z",
          "shell.execute_reply.started": "2021-08-25T18:29:13.492698Z",
          "shell.execute_reply": "2021-08-25T18:29:13.499012Z"
        },
        "trusted": true,
        "id": "_hdWzYhv2twj",
        "outputId": "66aafc2f-b1ab-4574-82c7-f1903cffaf02"
      },
      "source": [
        "#Cols to encode\n",
        "cols_to_encode = df.dtypes[df.dtypes == 'object'].keys()\n",
        "cols_to_encode"
      ],
      "execution_count": null,
      "outputs": [
        {
          "execution_count": 68,
          "output_type": "execute_result",
          "data": {
            "text/plain": "Index(['Category', 'Type', 'Content Rating', 'Android Ver'], dtype='object')"
          },
          "metadata": {}
        }
      ]
    },
    {
      "cell_type": "code",
      "metadata": {
        "execution": {
          "iopub.status.busy": "2021-08-25T18:29:13.501127Z",
          "iopub.execute_input": "2021-08-25T18:29:13.501427Z",
          "iopub.status.idle": "2021-08-25T18:29:13.543019Z",
          "shell.execute_reply.started": "2021-08-25T18:29:13.501400Z",
          "shell.execute_reply": "2021-08-25T18:29:13.542110Z"
        },
        "trusted": true,
        "id": "odSkurU12twk",
        "outputId": "a4b9829a-5d13-4b5b-e51a-7a937142d9ad"
      },
      "source": [
        "dummies = pd.get_dummies(df[cols_to_encode])\n",
        "dummies.sample(5)"
      ],
      "execution_count": null,
      "outputs": [
        {
          "execution_count": 69,
          "output_type": "execute_result",
          "data": {
            "text/plain": "                           Category_ART_AND_DESIGN  \\\nApp                                                  \nGenius Scan - PDF Scanner                        0   \nAP Mobile - Breaking News                        0   \nBZ-Smart                                         0   \nVargo Anesthesia Mega App                        0   \nBK Chat                                          0   \n\n                           Category_AUTO_AND_VEHICLES  Category_BEAUTY  \\\nApp                                                                      \nGenius Scan - PDF Scanner                           0                0   \nAP Mobile - Breaking News                           0                0   \nBZ-Smart                                            0                0   \nVargo Anesthesia Mega App                           0                0   \nBK Chat                                             0                0   \n\n                           Category_BOOKS_AND_REFERENCE  Category_BUSINESS  \\\nApp                                                                          \nGenius Scan - PDF Scanner                             0                  1   \nAP Mobile - Breaking News                             0                  0   \nBZ-Smart                                              0                  0   \nVargo Anesthesia Mega App                             0                  0   \nBK Chat                                               0                  0   \n\n                           Category_COMICS  Category_COMMUNICATION  \\\nApp                                                                  \nGenius Scan - PDF Scanner                0                       0   \nAP Mobile - Breaking News                0                       0   \nBZ-Smart                                 0                       0   \nVargo Anesthesia Mega App                0                       0   \nBK Chat                                  0                       1   \n\n                           Category_DATING  Category_EDUCATION  \\\nApp                                                              \nGenius Scan - PDF Scanner                0                   0   \nAP Mobile - Breaking News                0                   0   \nBZ-Smart                                 0                   0   \nVargo Anesthesia Mega App                0                   0   \nBK Chat                                  0                   0   \n\n                           Category_ENTERTAINMENT  ...  \\\nApp                                                ...   \nGenius Scan - PDF Scanner                       0  ...   \nAP Mobile - Breaking News                       0  ...   \nBZ-Smart                                        0  ...   \nVargo Anesthesia Mega App                       0  ...   \nBK Chat                                         0  ...   \n\n                           Android Ver_3.0 and up  Android Ver_4.0 and up  \\\nApp                                                                         \nGenius Scan - PDF Scanner                       0                       0   \nAP Mobile - Breaking News                       0                       1   \nBZ-Smart                                        0                       0   \nVargo Anesthesia Mega App                       0                       0   \nBK Chat                                         0                       0   \n\n                           Android Ver_4.0.3 and up  Android Ver_4.1 and up  \\\nApp                                                                           \nGenius Scan - PDF Scanner                         0                       0   \nAP Mobile - Breaking News                         0                       0   \nBZ-Smart                                          0                       0   \nVargo Anesthesia Mega App                         1                       0   \nBK Chat                                           0                       1   \n\n                           Android Ver_4.2 and up  Android Ver_4.3 and up  \\\nApp                                                                         \nGenius Scan - PDF Scanner                       0                       0   \nAP Mobile - Breaking News                       0                       0   \nBZ-Smart                                        0                       0   \nVargo Anesthesia Mega App                       0                       0   \nBK Chat                                         0                       0   \n\n                           Android Ver_4.4 and up  Android Ver_5.0 and up  \\\nApp                                                                         \nGenius Scan - PDF Scanner                       0                       0   \nAP Mobile - Breaking News                       0                       0   \nBZ-Smart                                        0                       0   \nVargo Anesthesia Mega App                       0                       0   \nBK Chat                                         0                       0   \n\n                           Android Ver_Others  Android Ver_Varies with device  \nApp                                                                            \nGenius Scan - PDF Scanner                   0                               1  \nAP Mobile - Breaking News                   0                               0  \nBZ-Smart                                    0                               0  \nVargo Anesthesia Mega App                   0                               0  \nBK Chat                                     0                               0  \n\n[5 rows x 54 columns]",
            "text/html": "<div>\n<style scoped>\n    .dataframe tbody tr th:only-of-type {\n        vertical-align: middle;\n    }\n\n    .dataframe tbody tr th {\n        vertical-align: top;\n    }\n\n    .dataframe thead th {\n        text-align: right;\n    }\n</style>\n<table border=\"1\" class=\"dataframe\">\n  <thead>\n    <tr style=\"text-align: right;\">\n      <th></th>\n      <th>Category_ART_AND_DESIGN</th>\n      <th>Category_AUTO_AND_VEHICLES</th>\n      <th>Category_BEAUTY</th>\n      <th>Category_BOOKS_AND_REFERENCE</th>\n      <th>Category_BUSINESS</th>\n      <th>Category_COMICS</th>\n      <th>Category_COMMUNICATION</th>\n      <th>Category_DATING</th>\n      <th>Category_EDUCATION</th>\n      <th>Category_ENTERTAINMENT</th>\n      <th>...</th>\n      <th>Android Ver_3.0 and up</th>\n      <th>Android Ver_4.0 and up</th>\n      <th>Android Ver_4.0.3 and up</th>\n      <th>Android Ver_4.1 and up</th>\n      <th>Android Ver_4.2 and up</th>\n      <th>Android Ver_4.3 and up</th>\n      <th>Android Ver_4.4 and up</th>\n      <th>Android Ver_5.0 and up</th>\n      <th>Android Ver_Others</th>\n      <th>Android Ver_Varies with device</th>\n    </tr>\n    <tr>\n      <th>App</th>\n      <th></th>\n      <th></th>\n      <th></th>\n      <th></th>\n      <th></th>\n      <th></th>\n      <th></th>\n      <th></th>\n      <th></th>\n      <th></th>\n      <th></th>\n      <th></th>\n      <th></th>\n      <th></th>\n      <th></th>\n      <th></th>\n      <th></th>\n      <th></th>\n      <th></th>\n      <th></th>\n      <th></th>\n    </tr>\n  </thead>\n  <tbody>\n    <tr>\n      <th>Genius Scan - PDF Scanner</th>\n      <td>0</td>\n      <td>0</td>\n      <td>0</td>\n      <td>0</td>\n      <td>1</td>\n      <td>0</td>\n      <td>0</td>\n      <td>0</td>\n      <td>0</td>\n      <td>0</td>\n      <td>...</td>\n      <td>0</td>\n      <td>0</td>\n      <td>0</td>\n      <td>0</td>\n      <td>0</td>\n      <td>0</td>\n      <td>0</td>\n      <td>0</td>\n      <td>0</td>\n      <td>1</td>\n    </tr>\n    <tr>\n      <th>AP Mobile - Breaking News</th>\n      <td>0</td>\n      <td>0</td>\n      <td>0</td>\n      <td>0</td>\n      <td>0</td>\n      <td>0</td>\n      <td>0</td>\n      <td>0</td>\n      <td>0</td>\n      <td>0</td>\n      <td>...</td>\n      <td>0</td>\n      <td>1</td>\n      <td>0</td>\n      <td>0</td>\n      <td>0</td>\n      <td>0</td>\n      <td>0</td>\n      <td>0</td>\n      <td>0</td>\n      <td>0</td>\n    </tr>\n    <tr>\n      <th>BZ-Smart</th>\n      <td>0</td>\n      <td>0</td>\n      <td>0</td>\n      <td>0</td>\n      <td>0</td>\n      <td>0</td>\n      <td>0</td>\n      <td>0</td>\n      <td>0</td>\n      <td>0</td>\n      <td>...</td>\n      <td>0</td>\n      <td>0</td>\n      <td>0</td>\n      <td>0</td>\n      <td>0</td>\n      <td>0</td>\n      <td>0</td>\n      <td>0</td>\n      <td>0</td>\n      <td>0</td>\n    </tr>\n    <tr>\n      <th>Vargo Anesthesia Mega App</th>\n      <td>0</td>\n      <td>0</td>\n      <td>0</td>\n      <td>0</td>\n      <td>0</td>\n      <td>0</td>\n      <td>0</td>\n      <td>0</td>\n      <td>0</td>\n      <td>0</td>\n      <td>...</td>\n      <td>0</td>\n      <td>0</td>\n      <td>1</td>\n      <td>0</td>\n      <td>0</td>\n      <td>0</td>\n      <td>0</td>\n      <td>0</td>\n      <td>0</td>\n      <td>0</td>\n    </tr>\n    <tr>\n      <th>BK Chat</th>\n      <td>0</td>\n      <td>0</td>\n      <td>0</td>\n      <td>0</td>\n      <td>0</td>\n      <td>0</td>\n      <td>1</td>\n      <td>0</td>\n      <td>0</td>\n      <td>0</td>\n      <td>...</td>\n      <td>0</td>\n      <td>0</td>\n      <td>0</td>\n      <td>1</td>\n      <td>0</td>\n      <td>0</td>\n      <td>0</td>\n      <td>0</td>\n      <td>0</td>\n      <td>0</td>\n    </tr>\n  </tbody>\n</table>\n<p>5 rows × 54 columns</p>\n</div>"
          },
          "metadata": {}
        }
      ]
    },
    {
      "cell_type": "code",
      "metadata": {
        "execution": {
          "iopub.status.busy": "2021-08-25T18:29:13.544329Z",
          "iopub.execute_input": "2021-08-25T18:29:13.544776Z",
          "iopub.status.idle": "2021-08-25T18:29:13.559283Z",
          "shell.execute_reply.started": "2021-08-25T18:29:13.544739Z",
          "shell.execute_reply": "2021-08-25T18:29:13.558329Z"
        },
        "trusted": true,
        "id": "LidohrS32twk",
        "outputId": "e63224b0-4bf6-40b9-ac5b-124dfcf3d799"
      },
      "source": [
        "df.drop(cols_to_encode,axis=1,inplace=True)\n",
        "df.head()"
      ],
      "execution_count": null,
      "outputs": [
        {
          "execution_count": 70,
          "output_type": "execute_result",
          "data": {
            "text/plain": "                                                    Rating  Reviews  Size  \\\nApp                                                                         \nPhoto Editor & Candy Camera & Grid & ScrapBook         4.1      159  19.0   \nColoring book moana                                    3.9      967  14.0   \nU Launcher Lite – FREE Live Cool Themes, Hide Apps     4.7    87510   8.7   \nSketch - Draw & Paint                                  4.5   215644  25.0   \nPixel Draw - Number Art Coloring Book                  4.3      967   2.8   \n\n                                                    Installs  Price  \nApp                                                                  \nPhoto Editor & Candy Camera & Grid & ScrapBook         10000    0.0  \nColoring book moana                                   500000    0.0  \nU Launcher Lite – FREE Live Cool Themes, Hide Apps   5000000    0.0  \nSketch - Draw & Paint                               50000000    0.0  \nPixel Draw - Number Art Coloring Book                 100000    0.0  ",
            "text/html": "<div>\n<style scoped>\n    .dataframe tbody tr th:only-of-type {\n        vertical-align: middle;\n    }\n\n    .dataframe tbody tr th {\n        vertical-align: top;\n    }\n\n    .dataframe thead th {\n        text-align: right;\n    }\n</style>\n<table border=\"1\" class=\"dataframe\">\n  <thead>\n    <tr style=\"text-align: right;\">\n      <th></th>\n      <th>Rating</th>\n      <th>Reviews</th>\n      <th>Size</th>\n      <th>Installs</th>\n      <th>Price</th>\n    </tr>\n    <tr>\n      <th>App</th>\n      <th></th>\n      <th></th>\n      <th></th>\n      <th></th>\n      <th></th>\n    </tr>\n  </thead>\n  <tbody>\n    <tr>\n      <th>Photo Editor &amp; Candy Camera &amp; Grid &amp; ScrapBook</th>\n      <td>4.1</td>\n      <td>159</td>\n      <td>19.0</td>\n      <td>10000</td>\n      <td>0.0</td>\n    </tr>\n    <tr>\n      <th>Coloring book moana</th>\n      <td>3.9</td>\n      <td>967</td>\n      <td>14.0</td>\n      <td>500000</td>\n      <td>0.0</td>\n    </tr>\n    <tr>\n      <th>U Launcher Lite – FREE Live Cool Themes, Hide Apps</th>\n      <td>4.7</td>\n      <td>87510</td>\n      <td>8.7</td>\n      <td>5000000</td>\n      <td>0.0</td>\n    </tr>\n    <tr>\n      <th>Sketch - Draw &amp; Paint</th>\n      <td>4.5</td>\n      <td>215644</td>\n      <td>25.0</td>\n      <td>50000000</td>\n      <td>0.0</td>\n    </tr>\n    <tr>\n      <th>Pixel Draw - Number Art Coloring Book</th>\n      <td>4.3</td>\n      <td>967</td>\n      <td>2.8</td>\n      <td>100000</td>\n      <td>0.0</td>\n    </tr>\n  </tbody>\n</table>\n</div>"
          },
          "metadata": {}
        }
      ]
    },
    {
      "cell_type": "code",
      "metadata": {
        "execution": {
          "iopub.status.busy": "2021-08-25T18:29:13.560350Z",
          "iopub.execute_input": "2021-08-25T18:29:13.560810Z",
          "iopub.status.idle": "2021-08-25T18:29:13.569209Z",
          "shell.execute_reply.started": "2021-08-25T18:29:13.560768Z",
          "shell.execute_reply": "2021-08-25T18:29:13.568180Z"
        },
        "trusted": true,
        "id": "kmpQ3z1f2twk",
        "outputId": "2d634bc3-454b-400e-fb12-5bf7caa4e6e6"
      },
      "source": [
        "df.shape,dummies.shape"
      ],
      "execution_count": null,
      "outputs": [
        {
          "execution_count": 71,
          "output_type": "execute_result",
          "data": {
            "text/plain": "((10837, 5), (10837, 54))"
          },
          "metadata": {}
        }
      ]
    },
    {
      "cell_type": "code",
      "metadata": {
        "execution": {
          "iopub.status.busy": "2021-08-25T18:29:13.571097Z",
          "iopub.execute_input": "2021-08-25T18:29:13.571661Z",
          "iopub.status.idle": "2021-08-25T18:29:13.584598Z",
          "shell.execute_reply.started": "2021-08-25T18:29:13.571522Z",
          "shell.execute_reply": "2021-08-25T18:29:13.583891Z"
        },
        "trusted": true,
        "id": "upi6E_RQ2twk",
        "outputId": "e4d42b42-01fd-422f-87da-25d9b76632d7"
      },
      "source": [
        "new_df = pd.concat([df,dummies],axis=1)\n",
        "new_df.shape"
      ],
      "execution_count": null,
      "outputs": [
        {
          "execution_count": 72,
          "output_type": "execute_result",
          "data": {
            "text/plain": "(10837, 59)"
          },
          "metadata": {}
        }
      ]
    },
    {
      "cell_type": "code",
      "metadata": {
        "execution": {
          "iopub.status.busy": "2021-08-25T18:29:13.585521Z",
          "iopub.execute_input": "2021-08-25T18:29:13.585938Z",
          "iopub.status.idle": "2021-08-25T18:29:13.599788Z",
          "shell.execute_reply.started": "2021-08-25T18:29:13.585910Z",
          "shell.execute_reply": "2021-08-25T18:29:13.598994Z"
        },
        "trusted": true,
        "id": "jJN5HUvI2twl",
        "outputId": "03152d59-117b-4956-f73c-bcd986fdcf28"
      },
      "source": [
        "(new_df.isna().sum().sum())"
      ],
      "execution_count": null,
      "outputs": [
        {
          "execution_count": 73,
          "output_type": "execute_result",
          "data": {
            "text/plain": "0"
          },
          "metadata": {}
        }
      ]
    },
    {
      "cell_type": "code",
      "metadata": {
        "execution": {
          "iopub.status.busy": "2021-08-25T18:29:13.600777Z",
          "iopub.execute_input": "2021-08-25T18:29:13.601152Z",
          "iopub.status.idle": "2021-08-25T18:29:13.629739Z",
          "shell.execute_reply.started": "2021-08-25T18:29:13.601121Z",
          "shell.execute_reply": "2021-08-25T18:29:13.629072Z"
        },
        "trusted": true,
        "id": "zhw9H3CX2twl",
        "outputId": "e44c8133-4c10-4851-85bb-593a44515704"
      },
      "source": [
        "new_df.head()"
      ],
      "execution_count": null,
      "outputs": [
        {
          "execution_count": 74,
          "output_type": "execute_result",
          "data": {
            "text/plain": "                                                    Rating  Reviews  Size  \\\nApp                                                                         \nPhoto Editor & Candy Camera & Grid & ScrapBook         4.1      159  19.0   \nColoring book moana                                    3.9      967  14.0   \nU Launcher Lite – FREE Live Cool Themes, Hide Apps     4.7    87510   8.7   \nSketch - Draw & Paint                                  4.5   215644  25.0   \nPixel Draw - Number Art Coloring Book                  4.3      967   2.8   \n\n                                                    Installs  Price  \\\nApp                                                                   \nPhoto Editor & Candy Camera & Grid & ScrapBook         10000    0.0   \nColoring book moana                                   500000    0.0   \nU Launcher Lite – FREE Live Cool Themes, Hide Apps   5000000    0.0   \nSketch - Draw & Paint                               50000000    0.0   \nPixel Draw - Number Art Coloring Book                 100000    0.0   \n\n                                                    Category_ART_AND_DESIGN  \\\nApp                                                                           \nPhoto Editor & Candy Camera & Grid & ScrapBook                            1   \nColoring book moana                                                       1   \nU Launcher Lite – FREE Live Cool Themes, Hide Apps                        1   \nSketch - Draw & Paint                                                     1   \nPixel Draw - Number Art Coloring Book                                     1   \n\n                                                    Category_AUTO_AND_VEHICLES  \\\nApp                                                                              \nPhoto Editor & Candy Camera & Grid & ScrapBook                               0   \nColoring book moana                                                          0   \nU Launcher Lite – FREE Live Cool Themes, Hide Apps                           0   \nSketch - Draw & Paint                                                        0   \nPixel Draw - Number Art Coloring Book                                        0   \n\n                                                    Category_BEAUTY  \\\nApp                                                                   \nPhoto Editor & Candy Camera & Grid & ScrapBook                    0   \nColoring book moana                                               0   \nU Launcher Lite – FREE Live Cool Themes, Hide Apps                0   \nSketch - Draw & Paint                                             0   \nPixel Draw - Number Art Coloring Book                             0   \n\n                                                    Category_BOOKS_AND_REFERENCE  \\\nApp                                                                                \nPhoto Editor & Candy Camera & Grid & ScrapBook                                 0   \nColoring book moana                                                            0   \nU Launcher Lite – FREE Live Cool Themes, Hide Apps                             0   \nSketch - Draw & Paint                                                          0   \nPixel Draw - Number Art Coloring Book                                          0   \n\n                                                    Category_BUSINESS  ...  \\\nApp                                                                    ...   \nPhoto Editor & Candy Camera & Grid & ScrapBook                      0  ...   \nColoring book moana                                                 0  ...   \nU Launcher Lite – FREE Live Cool Themes, Hide Apps                  0  ...   \nSketch - Draw & Paint                                               0  ...   \nPixel Draw - Number Art Coloring Book                               0  ...   \n\n                                                    Android Ver_3.0 and up  \\\nApp                                                                          \nPhoto Editor & Candy Camera & Grid & ScrapBook                           0   \nColoring book moana                                                      0   \nU Launcher Lite – FREE Live Cool Themes, Hide Apps                       0   \nSketch - Draw & Paint                                                    0   \nPixel Draw - Number Art Coloring Book                                    0   \n\n                                                    Android Ver_4.0 and up  \\\nApp                                                                          \nPhoto Editor & Candy Camera & Grid & ScrapBook                           0   \nColoring book moana                                                      0   \nU Launcher Lite – FREE Live Cool Themes, Hide Apps                       0   \nSketch - Draw & Paint                                                    0   \nPixel Draw - Number Art Coloring Book                                    0   \n\n                                                    Android Ver_4.0.3 and up  \\\nApp                                                                            \nPhoto Editor & Candy Camera & Grid & ScrapBook                             1   \nColoring book moana                                                        1   \nU Launcher Lite – FREE Live Cool Themes, Hide Apps                         1   \nSketch - Draw & Paint                                                      0   \nPixel Draw - Number Art Coloring Book                                      0   \n\n                                                    Android Ver_4.1 and up  \\\nApp                                                                          \nPhoto Editor & Candy Camera & Grid & ScrapBook                           0   \nColoring book moana                                                      0   \nU Launcher Lite – FREE Live Cool Themes, Hide Apps                       0   \nSketch - Draw & Paint                                                    0   \nPixel Draw - Number Art Coloring Book                                    0   \n\n                                                    Android Ver_4.2 and up  \\\nApp                                                                          \nPhoto Editor & Candy Camera & Grid & ScrapBook                           0   \nColoring book moana                                                      0   \nU Launcher Lite – FREE Live Cool Themes, Hide Apps                       0   \nSketch - Draw & Paint                                                    1   \nPixel Draw - Number Art Coloring Book                                    0   \n\n                                                    Android Ver_4.3 and up  \\\nApp                                                                          \nPhoto Editor & Candy Camera & Grid & ScrapBook                           0   \nColoring book moana                                                      0   \nU Launcher Lite – FREE Live Cool Themes, Hide Apps                       0   \nSketch - Draw & Paint                                                    0   \nPixel Draw - Number Art Coloring Book                                    0   \n\n                                                    Android Ver_4.4 and up  \\\nApp                                                                          \nPhoto Editor & Candy Camera & Grid & ScrapBook                           0   \nColoring book moana                                                      0   \nU Launcher Lite – FREE Live Cool Themes, Hide Apps                       0   \nSketch - Draw & Paint                                                    0   \nPixel Draw - Number Art Coloring Book                                    1   \n\n                                                    Android Ver_5.0 and up  \\\nApp                                                                          \nPhoto Editor & Candy Camera & Grid & ScrapBook                           0   \nColoring book moana                                                      0   \nU Launcher Lite – FREE Live Cool Themes, Hide Apps                       0   \nSketch - Draw & Paint                                                    0   \nPixel Draw - Number Art Coloring Book                                    0   \n\n                                                    Android Ver_Others  \\\nApp                                                                      \nPhoto Editor & Candy Camera & Grid & ScrapBook                       0   \nColoring book moana                                                  0   \nU Launcher Lite – FREE Live Cool Themes, Hide Apps                   0   \nSketch - Draw & Paint                                                0   \nPixel Draw - Number Art Coloring Book                                0   \n\n                                                    Android Ver_Varies with device  \nApp                                                                                 \nPhoto Editor & Candy Camera & Grid & ScrapBook                                   0  \nColoring book moana                                                              0  \nU Launcher Lite – FREE Live Cool Themes, Hide Apps                               0  \nSketch - Draw & Paint                                                            0  \nPixel Draw - Number Art Coloring Book                                            0  \n\n[5 rows x 59 columns]",
            "text/html": "<div>\n<style scoped>\n    .dataframe tbody tr th:only-of-type {\n        vertical-align: middle;\n    }\n\n    .dataframe tbody tr th {\n        vertical-align: top;\n    }\n\n    .dataframe thead th {\n        text-align: right;\n    }\n</style>\n<table border=\"1\" class=\"dataframe\">\n  <thead>\n    <tr style=\"text-align: right;\">\n      <th></th>\n      <th>Rating</th>\n      <th>Reviews</th>\n      <th>Size</th>\n      <th>Installs</th>\n      <th>Price</th>\n      <th>Category_ART_AND_DESIGN</th>\n      <th>Category_AUTO_AND_VEHICLES</th>\n      <th>Category_BEAUTY</th>\n      <th>Category_BOOKS_AND_REFERENCE</th>\n      <th>Category_BUSINESS</th>\n      <th>...</th>\n      <th>Android Ver_3.0 and up</th>\n      <th>Android Ver_4.0 and up</th>\n      <th>Android Ver_4.0.3 and up</th>\n      <th>Android Ver_4.1 and up</th>\n      <th>Android Ver_4.2 and up</th>\n      <th>Android Ver_4.3 and up</th>\n      <th>Android Ver_4.4 and up</th>\n      <th>Android Ver_5.0 and up</th>\n      <th>Android Ver_Others</th>\n      <th>Android Ver_Varies with device</th>\n    </tr>\n    <tr>\n      <th>App</th>\n      <th></th>\n      <th></th>\n      <th></th>\n      <th></th>\n      <th></th>\n      <th></th>\n      <th></th>\n      <th></th>\n      <th></th>\n      <th></th>\n      <th></th>\n      <th></th>\n      <th></th>\n      <th></th>\n      <th></th>\n      <th></th>\n      <th></th>\n      <th></th>\n      <th></th>\n      <th></th>\n      <th></th>\n    </tr>\n  </thead>\n  <tbody>\n    <tr>\n      <th>Photo Editor &amp; Candy Camera &amp; Grid &amp; ScrapBook</th>\n      <td>4.1</td>\n      <td>159</td>\n      <td>19.0</td>\n      <td>10000</td>\n      <td>0.0</td>\n      <td>1</td>\n      <td>0</td>\n      <td>0</td>\n      <td>0</td>\n      <td>0</td>\n      <td>...</td>\n      <td>0</td>\n      <td>0</td>\n      <td>1</td>\n      <td>0</td>\n      <td>0</td>\n      <td>0</td>\n      <td>0</td>\n      <td>0</td>\n      <td>0</td>\n      <td>0</td>\n    </tr>\n    <tr>\n      <th>Coloring book moana</th>\n      <td>3.9</td>\n      <td>967</td>\n      <td>14.0</td>\n      <td>500000</td>\n      <td>0.0</td>\n      <td>1</td>\n      <td>0</td>\n      <td>0</td>\n      <td>0</td>\n      <td>0</td>\n      <td>...</td>\n      <td>0</td>\n      <td>0</td>\n      <td>1</td>\n      <td>0</td>\n      <td>0</td>\n      <td>0</td>\n      <td>0</td>\n      <td>0</td>\n      <td>0</td>\n      <td>0</td>\n    </tr>\n    <tr>\n      <th>U Launcher Lite – FREE Live Cool Themes, Hide Apps</th>\n      <td>4.7</td>\n      <td>87510</td>\n      <td>8.7</td>\n      <td>5000000</td>\n      <td>0.0</td>\n      <td>1</td>\n      <td>0</td>\n      <td>0</td>\n      <td>0</td>\n      <td>0</td>\n      <td>...</td>\n      <td>0</td>\n      <td>0</td>\n      <td>1</td>\n      <td>0</td>\n      <td>0</td>\n      <td>0</td>\n      <td>0</td>\n      <td>0</td>\n      <td>0</td>\n      <td>0</td>\n    </tr>\n    <tr>\n      <th>Sketch - Draw &amp; Paint</th>\n      <td>4.5</td>\n      <td>215644</td>\n      <td>25.0</td>\n      <td>50000000</td>\n      <td>0.0</td>\n      <td>1</td>\n      <td>0</td>\n      <td>0</td>\n      <td>0</td>\n      <td>0</td>\n      <td>...</td>\n      <td>0</td>\n      <td>0</td>\n      <td>0</td>\n      <td>0</td>\n      <td>1</td>\n      <td>0</td>\n      <td>0</td>\n      <td>0</td>\n      <td>0</td>\n      <td>0</td>\n    </tr>\n    <tr>\n      <th>Pixel Draw - Number Art Coloring Book</th>\n      <td>4.3</td>\n      <td>967</td>\n      <td>2.8</td>\n      <td>100000</td>\n      <td>0.0</td>\n      <td>1</td>\n      <td>0</td>\n      <td>0</td>\n      <td>0</td>\n      <td>0</td>\n      <td>...</td>\n      <td>0</td>\n      <td>0</td>\n      <td>0</td>\n      <td>0</td>\n      <td>0</td>\n      <td>0</td>\n      <td>1</td>\n      <td>0</td>\n      <td>0</td>\n      <td>0</td>\n    </tr>\n  </tbody>\n</table>\n<p>5 rows × 59 columns</p>\n</div>"
          },
          "metadata": {}
        }
      ]
    },
    {
      "cell_type": "markdown",
      "metadata": {
        "id": "irffem7a2twl"
      },
      "source": [
        "# **Feature Scaling**"
      ]
    },
    {
      "cell_type": "code",
      "metadata": {
        "execution": {
          "iopub.status.busy": "2021-08-25T18:29:13.630651Z",
          "iopub.execute_input": "2021-08-25T18:29:13.631025Z",
          "iopub.status.idle": "2021-08-25T18:29:13.634995Z",
          "shell.execute_reply.started": "2021-08-25T18:29:13.630996Z",
          "shell.execute_reply": "2021-08-25T18:29:13.634127Z"
        },
        "trusted": true,
        "id": "D2sO0gCH2twl"
      },
      "source": [
        "xdf = new_df.copy(deep=True)"
      ],
      "execution_count": null,
      "outputs": []
    },
    {
      "cell_type": "code",
      "metadata": {
        "execution": {
          "iopub.status.busy": "2021-08-25T18:29:13.636013Z",
          "iopub.execute_input": "2021-08-25T18:29:13.636282Z",
          "iopub.status.idle": "2021-08-25T18:29:13.648390Z",
          "shell.execute_reply.started": "2021-08-25T18:29:13.636257Z",
          "shell.execute_reply": "2021-08-25T18:29:13.647468Z"
        },
        "trusted": true,
        "id": "hkLLVzEi2twl",
        "outputId": "38811f02-4b0e-47ff-a2fe-b75946719701"
      },
      "source": [
        "cols_to_scale = \"Rating \tReviews \tSize \tInstalls \tPrice\".split(\" \t\")\n",
        "cols_to_scale"
      ],
      "execution_count": null,
      "outputs": [
        {
          "execution_count": 76,
          "output_type": "execute_result",
          "data": {
            "text/plain": "['Rating', 'Reviews', 'Size', 'Installs', 'Price']"
          },
          "metadata": {}
        }
      ]
    },
    {
      "cell_type": "code",
      "metadata": {
        "execution": {
          "iopub.status.busy": "2021-08-25T18:29:13.650703Z",
          "iopub.execute_input": "2021-08-25T18:29:13.650993Z",
          "iopub.status.idle": "2021-08-25T18:29:13.760690Z",
          "shell.execute_reply.started": "2021-08-25T18:29:13.650966Z",
          "shell.execute_reply": "2021-08-25T18:29:13.759915Z"
        },
        "trusted": true,
        "id": "6DW11EM82twm"
      },
      "source": [
        "from sklearn.preprocessing import MinMaxScaler\n",
        "scale = MinMaxScaler()"
      ],
      "execution_count": null,
      "outputs": []
    },
    {
      "cell_type": "code",
      "metadata": {
        "execution": {
          "iopub.status.busy": "2021-08-25T18:29:13.761892Z",
          "iopub.execute_input": "2021-08-25T18:29:13.762483Z",
          "iopub.status.idle": "2021-08-25T18:29:13.775802Z",
          "shell.execute_reply.started": "2021-08-25T18:29:13.762438Z",
          "shell.execute_reply": "2021-08-25T18:29:13.774799Z"
        },
        "trusted": true,
        "id": "mzGhnWgx2twm"
      },
      "source": [
        "scalled = scale.fit_transform(xdf[cols_to_scale])"
      ],
      "execution_count": null,
      "outputs": []
    },
    {
      "cell_type": "code",
      "metadata": {
        "execution": {
          "iopub.status.busy": "2021-08-25T18:29:13.777364Z",
          "iopub.execute_input": "2021-08-25T18:29:13.777767Z",
          "iopub.status.idle": "2021-08-25T18:29:13.786711Z",
          "shell.execute_reply.started": "2021-08-25T18:29:13.777728Z",
          "shell.execute_reply": "2021-08-25T18:29:13.785486Z"
        },
        "trusted": true,
        "id": "wkIc8pH-2twm",
        "outputId": "dc6f63af-823c-4f0c-ebaf-d5a76ae413a3"
      },
      "source": [
        "i=0\n",
        "for col in cols_to_scale:\n",
        "    xdf[col] = scalled[:,i]\n",
        "    print(col)\n",
        "    i += 1"
      ],
      "execution_count": null,
      "outputs": [
        {
          "name": "stdout",
          "text": "Rating\nReviews\nSize\nInstalls\nPrice\n",
          "output_type": "stream"
        }
      ]
    },
    {
      "cell_type": "markdown",
      "metadata": {
        "id": "Qm5F_ayA2twm"
      },
      "source": [
        "# **Data Contains Duplicate Values**"
      ]
    },
    {
      "cell_type": "code",
      "metadata": {
        "execution": {
          "iopub.status.busy": "2021-08-25T18:29:13.788354Z",
          "iopub.execute_input": "2021-08-25T18:29:13.788885Z",
          "iopub.status.idle": "2021-08-25T18:29:13.809212Z",
          "shell.execute_reply.started": "2021-08-25T18:29:13.788838Z",
          "shell.execute_reply": "2021-08-25T18:29:13.808176Z"
        },
        "trusted": true,
        "id": "eSCUKTvL2twn",
        "outputId": "cbc20cc6-ecd5-465b-c553-94ca9e4c6f74"
      },
      "source": [
        "xdf['App']=xdf.index\n",
        "xdf.drop_duplicates(subset='App',inplace=True)\n",
        "xdf.shape"
      ],
      "execution_count": null,
      "outputs": [
        {
          "execution_count": 80,
          "output_type": "execute_result",
          "data": {
            "text/plain": "(9656, 60)"
          },
          "metadata": {}
        }
      ]
    },
    {
      "cell_type": "code",
      "metadata": {
        "execution": {
          "iopub.status.busy": "2021-08-25T18:29:13.810678Z",
          "iopub.execute_input": "2021-08-25T18:29:13.811085Z",
          "iopub.status.idle": "2021-08-25T18:29:13.819215Z",
          "shell.execute_reply.started": "2021-08-25T18:29:13.811044Z",
          "shell.execute_reply": "2021-08-25T18:29:13.818551Z"
        },
        "trusted": true,
        "id": "f-pOnbAS2twn",
        "outputId": "23cd02ce-d011-4b9c-cf54-b79bda3e04d3"
      },
      "source": [
        "xdf.drop('App',axis=1,inplace=True)\n",
        "xdf.shape"
      ],
      "execution_count": null,
      "outputs": [
        {
          "execution_count": 81,
          "output_type": "execute_result",
          "data": {
            "text/plain": "(9656, 59)"
          },
          "metadata": {}
        }
      ]
    },
    {
      "cell_type": "code",
      "metadata": {
        "execution": {
          "iopub.status.busy": "2021-08-25T18:29:13.820164Z",
          "iopub.execute_input": "2021-08-25T18:29:13.820584Z",
          "iopub.status.idle": "2021-08-25T18:29:13.830566Z",
          "shell.execute_reply.started": "2021-08-25T18:29:13.820556Z",
          "shell.execute_reply": "2021-08-25T18:29:13.829675Z"
        },
        "trusted": true,
        "id": "CONGtd0J2twn",
        "outputId": "f3a17dae-ac7f-41c4-c274-3d05fcd669f3"
      },
      "source": [
        "app_names = pd.DataFrame({'App':xdf.index})\n",
        "app_names.shape"
      ],
      "execution_count": null,
      "outputs": [
        {
          "execution_count": 82,
          "output_type": "execute_result",
          "data": {
            "text/plain": "(9656, 1)"
          },
          "metadata": {}
        }
      ]
    },
    {
      "cell_type": "markdown",
      "metadata": {
        "id": "H7f8dD692twn"
      },
      "source": [
        "# **Recommendation Model Build and  Predictions**"
      ]
    },
    {
      "cell_type": "code",
      "metadata": {
        "execution": {
          "iopub.status.busy": "2021-08-25T18:29:13.831789Z",
          "iopub.execute_input": "2021-08-25T18:29:13.834824Z",
          "iopub.status.idle": "2021-08-25T18:29:14.101138Z",
          "shell.execute_reply.started": "2021-08-25T18:29:13.834775Z",
          "shell.execute_reply": "2021-08-25T18:29:14.100205Z"
        },
        "trusted": true,
        "id": "a3GwQIbZ2two",
        "outputId": "bfc5f9ef-1945-437f-b226-10d9216d9bae"
      },
      "source": [
        "from sklearn.neighbors import NearestNeighbors\n",
        "from sklearn.metrics.pairwise import cosine_similarity\n",
        "model = NearestNeighbors(metric='euclidean')\n",
        "model.fit(xdf)"
      ],
      "execution_count": null,
      "outputs": [
        {
          "execution_count": 83,
          "output_type": "execute_result",
          "data": {
            "text/plain": "NearestNeighbors(metric='euclidean')"
          },
          "metadata": {}
        }
      ]
    },
    {
      "cell_type": "code",
      "metadata": {
        "execution": {
          "iopub.status.busy": "2021-08-25T18:29:14.102382Z",
          "iopub.execute_input": "2021-08-25T18:29:14.102679Z",
          "iopub.status.idle": "2021-08-25T18:29:14.111377Z",
          "shell.execute_reply.started": "2021-08-25T18:29:14.102650Z",
          "shell.execute_reply": "2021-08-25T18:29:14.110551Z"
        },
        "trusted": true,
        "id": "UQr0vmbY2two"
      },
      "source": [
        "def getRecommendedApps(appname,recommend_apps=5,get_similarity=False):\n",
        "    distances,neighbors = model.kneighbors(xdf.loc[appname],n_neighbors=recommend_apps+1)\n",
        "    print(f'Similar Apps for \"{appname[0]}:\"')\n",
        "    print(neighbors[0][1:])\n",
        "    similar_apps = []\n",
        "    for neighbor in neighbors[0][1:]:\n",
        "        similar_apps.append(app_names.loc[neighbor][0])\n",
        "    if not get_similarity:\n",
        "        return similar_apps\n",
        "    similarity = []\n",
        "    for app in similar_apps:\n",
        "        sim = cosine_similarity(xdf.loc[[appname[0]]],xdf.loc[[app]]).flatten()[0]\n",
        "        similarity.append(sim*100)\n",
        "    sim_df = pd.DataFrame({'App':similar_apps,'Similarity':similarity})\n",
        "    sim_df.sort_values(by='Similarity',ascending=False)\n",
        "    return sim_df"
      ],
      "execution_count": null,
      "outputs": []
    },
    {
      "cell_type": "code",
      "metadata": {
        "execution": {
          "iopub.status.busy": "2021-08-25T18:29:14.112806Z",
          "iopub.execute_input": "2021-08-25T18:29:14.113165Z",
          "iopub.status.idle": "2021-08-25T18:29:14.131029Z",
          "shell.execute_reply.started": "2021-08-25T18:29:14.113137Z",
          "shell.execute_reply": "2021-08-25T18:29:14.130205Z"
        },
        "trusted": true,
        "id": "c69ysR_82two",
        "outputId": "6400480d-60c4-42da-d33f-8e549849015f"
      },
      "source": [
        "app_names.loc[[565]]"
      ],
      "execution_count": null,
      "outputs": [
        {
          "execution_count": 85,
          "output_type": "execute_result",
          "data": {
            "text/plain": "                   App\n565  Online Girls Chat",
            "text/html": "<div>\n<style scoped>\n    .dataframe tbody tr th:only-of-type {\n        vertical-align: middle;\n    }\n\n    .dataframe tbody tr th {\n        vertical-align: top;\n    }\n\n    .dataframe thead th {\n        text-align: right;\n    }\n</style>\n<table border=\"1\" class=\"dataframe\">\n  <thead>\n    <tr style=\"text-align: right;\">\n      <th></th>\n      <th>App</th>\n    </tr>\n  </thead>\n  <tbody>\n    <tr>\n      <th>565</th>\n      <td>Online Girls Chat</td>\n    </tr>\n  </tbody>\n</table>\n</div>"
          },
          "metadata": {}
        }
      ]
    },
    {
      "cell_type": "code",
      "metadata": {
        "execution": {
          "iopub.status.busy": "2021-08-25T18:29:14.132278Z",
          "iopub.execute_input": "2021-08-25T18:29:14.132839Z",
          "iopub.status.idle": "2021-08-25T18:29:14.165271Z",
          "shell.execute_reply.started": "2021-08-25T18:29:14.132700Z",
          "shell.execute_reply": "2021-08-25T18:29:14.164564Z"
        },
        "trusted": true,
        "id": "UMyE5-qc2two",
        "outputId": "086449f9-8e47-4a1f-8f4b-9188a7c31c15"
      },
      "source": [
        "getRecommendedApps(app_names.loc[565],get_similarity=True)"
      ],
      "execution_count": null,
      "outputs": [
        {
          "name": "stdout",
          "text": "Similar Apps for \"Online Girls Chat:\"\n[513 505 508 515 564]\n",
          "output_type": "stream"
        },
        {
          "execution_count": 86,
          "output_type": "execute_result",
          "data": {
            "text/plain": "                                            App  Similarity\n0    FREE VIDEO CHAT - LIVE VIDEO AND TEXT CHAT   99.999001\n1             Live Girls Talk - Free Video Chat   99.998562\n2      Girls Live Chat - Free Text & Video Chat   99.998042\n3             Live Chat - Free Video Chat Rooms   99.998042\n4  Girls Online Talk - Free Text and Video Chat   99.994701",
            "text/html": "<div>\n<style scoped>\n    .dataframe tbody tr th:only-of-type {\n        vertical-align: middle;\n    }\n\n    .dataframe tbody tr th {\n        vertical-align: top;\n    }\n\n    .dataframe thead th {\n        text-align: right;\n    }\n</style>\n<table border=\"1\" class=\"dataframe\">\n  <thead>\n    <tr style=\"text-align: right;\">\n      <th></th>\n      <th>App</th>\n      <th>Similarity</th>\n    </tr>\n  </thead>\n  <tbody>\n    <tr>\n      <th>0</th>\n      <td>FREE VIDEO CHAT - LIVE VIDEO AND TEXT CHAT</td>\n      <td>99.999001</td>\n    </tr>\n    <tr>\n      <th>1</th>\n      <td>Live Girls Talk - Free Video Chat</td>\n      <td>99.998562</td>\n    </tr>\n    <tr>\n      <th>2</th>\n      <td>Girls Live Chat - Free Text &amp; Video Chat</td>\n      <td>99.998042</td>\n    </tr>\n    <tr>\n      <th>3</th>\n      <td>Live Chat - Free Video Chat Rooms</td>\n      <td>99.998042</td>\n    </tr>\n    <tr>\n      <th>4</th>\n      <td>Girls Online Talk - Free Text and Video Chat</td>\n      <td>99.994701</td>\n    </tr>\n  </tbody>\n</table>\n</div>"
          },
          "metadata": {}
        }
      ]
    },
    {
      "cell_type": "code",
      "metadata": {
        "execution": {
          "iopub.status.busy": "2021-08-25T18:29:14.166289Z",
          "iopub.execute_input": "2021-08-25T18:29:14.166736Z",
          "iopub.status.idle": "2021-08-25T18:29:14.193182Z",
          "shell.execute_reply.started": "2021-08-25T18:29:14.166685Z",
          "shell.execute_reply": "2021-08-25T18:29:14.192552Z"
        },
        "trusted": true,
        "id": "EhhQ97pB2twp",
        "outputId": "37bf7109-1ee5-4a86-a26e-5cb5405d95e9"
      },
      "source": [
        "getRecommendedApps(app_names.loc[1023],get_similarity=True)"
      ],
      "execution_count": null,
      "outputs": [
        {
          "name": "stdout",
          "text": "Similar Apps for \"Seamless Food Delivery/Takeout:\"\n[ 969 1022  970 1018 1011]\n",
          "output_type": "stream"
        },
        {
          "execution_count": 87,
          "output_type": "execute_result",
          "data": {
            "text/plain": "                              App  Similarity\n0          Grubhub: Food Delivery   99.998835\n1  Uber Eats: Local Food Delivery   99.949156\n2                    Panera Bread   99.944368\n3     EatStreet Food Delivery App   99.912295\n4  OpenTable: Restaurants Near Me   99.767539",
            "text/html": "<div>\n<style scoped>\n    .dataframe tbody tr th:only-of-type {\n        vertical-align: middle;\n    }\n\n    .dataframe tbody tr th {\n        vertical-align: top;\n    }\n\n    .dataframe thead th {\n        text-align: right;\n    }\n</style>\n<table border=\"1\" class=\"dataframe\">\n  <thead>\n    <tr style=\"text-align: right;\">\n      <th></th>\n      <th>App</th>\n      <th>Similarity</th>\n    </tr>\n  </thead>\n  <tbody>\n    <tr>\n      <th>0</th>\n      <td>Grubhub: Food Delivery</td>\n      <td>99.998835</td>\n    </tr>\n    <tr>\n      <th>1</th>\n      <td>Uber Eats: Local Food Delivery</td>\n      <td>99.949156</td>\n    </tr>\n    <tr>\n      <th>2</th>\n      <td>Panera Bread</td>\n      <td>99.944368</td>\n    </tr>\n    <tr>\n      <th>3</th>\n      <td>EatStreet Food Delivery App</td>\n      <td>99.912295</td>\n    </tr>\n    <tr>\n      <th>4</th>\n      <td>OpenTable: Restaurants Near Me</td>\n      <td>99.767539</td>\n    </tr>\n  </tbody>\n</table>\n</div>"
          },
          "metadata": {}
        }
      ]
    },
    {
      "cell_type": "code",
      "metadata": {
        "execution": {
          "iopub.status.busy": "2021-08-25T18:29:14.194189Z",
          "iopub.execute_input": "2021-08-25T18:29:14.194611Z",
          "iopub.status.idle": "2021-08-25T18:29:14.218569Z",
          "shell.execute_reply.started": "2021-08-25T18:29:14.194581Z",
          "shell.execute_reply": "2021-08-25T18:29:14.217913Z"
        },
        "trusted": true,
        "id": "7GQcODTH2twp",
        "outputId": "cc24eb67-93ff-41d5-bd46-a31521d44254"
      },
      "source": [
        "getRecommendedApps(app_names.loc[1029],get_similarity=True)"
      ],
      "execution_count": null,
      "outputs": [
        {
          "name": "stdout",
          "text": "Similar Apps for \"Lose Belly Fat in 30 Days - Flat Stomach:\"\n[1031 3921 1056 4947 1110]\n",
          "output_type": "stream"
        },
        {
          "execution_count": 88,
          "output_type": "execute_result",
          "data": {
            "text/plain": "                                              App  Similarity\n0               Six Pack in 30 Days - Abs Workout   99.995725\n1  Abs Workout - Burn Belly Fat with No Equipment   99.993723\n2             Bike Computer - GPS Cycling Tracker   99.823670\n3       Fitness Dance for Zum.ba Workout Exercise   99.731602\n4             Headspace: Meditation & Mindfulness   99.169275",
            "text/html": "<div>\n<style scoped>\n    .dataframe tbody tr th:only-of-type {\n        vertical-align: middle;\n    }\n\n    .dataframe tbody tr th {\n        vertical-align: top;\n    }\n\n    .dataframe thead th {\n        text-align: right;\n    }\n</style>\n<table border=\"1\" class=\"dataframe\">\n  <thead>\n    <tr style=\"text-align: right;\">\n      <th></th>\n      <th>App</th>\n      <th>Similarity</th>\n    </tr>\n  </thead>\n  <tbody>\n    <tr>\n      <th>0</th>\n      <td>Six Pack in 30 Days - Abs Workout</td>\n      <td>99.995725</td>\n    </tr>\n    <tr>\n      <th>1</th>\n      <td>Abs Workout - Burn Belly Fat with No Equipment</td>\n      <td>99.993723</td>\n    </tr>\n    <tr>\n      <th>2</th>\n      <td>Bike Computer - GPS Cycling Tracker</td>\n      <td>99.823670</td>\n    </tr>\n    <tr>\n      <th>3</th>\n      <td>Fitness Dance for Zum.ba Workout Exercise</td>\n      <td>99.731602</td>\n    </tr>\n    <tr>\n      <th>4</th>\n      <td>Headspace: Meditation &amp; Mindfulness</td>\n      <td>99.169275</td>\n    </tr>\n  </tbody>\n</table>\n</div>"
          },
          "metadata": {}
        }
      ]
    },
    {
      "cell_type": "code",
      "metadata": {
        "execution": {
          "iopub.status.busy": "2021-08-25T18:29:14.219555Z",
          "iopub.execute_input": "2021-08-25T18:29:14.219980Z",
          "iopub.status.idle": "2021-08-25T18:29:14.230698Z",
          "shell.execute_reply.started": "2021-08-25T18:29:14.219952Z",
          "shell.execute_reply": "2021-08-25T18:29:14.230058Z"
        },
        "trusted": true,
        "id": "k0Dvncb42twp",
        "outputId": "b3a81858-fa1c-4c0b-ec45-d93afa8494d8"
      },
      "source": [
        "getRecommendedApps(app_names.loc[6712])"
      ],
      "execution_count": null,
      "outputs": [
        {
          "name": "stdout",
          "text": "Similar Apps for \"Ultimate Calculator for CR:\"\n[3689 2787 8063 2795 2738]\n",
          "output_type": "stream"
        },
        {
          "execution_count": 89,
          "output_type": "execute_result",
          "data": {
            "text/plain": "['T-Mobile Content Transfer',\n 'WPS Office - Word, Docs, PDF, Note, Slide & Sheet',\n 'Epson iProjection',\n 'Squid - Take Notes & Markup PDFs',\n 'MyMTN']"
          },
          "metadata": {}
        }
      ]
    },
    {
      "cell_type": "code",
      "metadata": {
        "execution": {
          "iopub.status.busy": "2021-08-25T18:29:14.231680Z",
          "iopub.execute_input": "2021-08-25T18:29:14.232028Z",
          "iopub.status.idle": "2021-08-25T18:29:14.259269Z",
          "shell.execute_reply.started": "2021-08-25T18:29:14.232002Z",
          "shell.execute_reply": "2021-08-25T18:29:14.258640Z"
        },
        "trusted": true,
        "id": "RO9tEDvJ2twp",
        "outputId": "b73c435f-c745-420d-83a5-d7a016a05e49"
      },
      "source": [
        "getRecommendedApps(app_names.loc[1923],get_similarity=True)"
      ],
      "execution_count": null,
      "outputs": [
        {
          "name": "stdout",
          "text": "Similar Apps for \"Labs on Demand:\"\n[1968 1876 5571 1927 1888]\n",
          "output_type": "stream"
        },
        {
          "execution_count": 90,
          "output_type": "execute_result",
          "data": {
            "text/plain": "                                                App  Similarity\n0                               BURST Professionals   99.857718\n1  5 Minute Clinical Consult 2019 - #1 for 25 years   99.475821\n2                               MedM Blood Pressure   99.428949\n3                                            Jaylex   96.125017\n4      5 Minute Veterinary Consult: Canine & Feline   95.283581",
            "text/html": "<div>\n<style scoped>\n    .dataframe tbody tr th:only-of-type {\n        vertical-align: middle;\n    }\n\n    .dataframe tbody tr th {\n        vertical-align: top;\n    }\n\n    .dataframe thead th {\n        text-align: right;\n    }\n</style>\n<table border=\"1\" class=\"dataframe\">\n  <thead>\n    <tr style=\"text-align: right;\">\n      <th></th>\n      <th>App</th>\n      <th>Similarity</th>\n    </tr>\n  </thead>\n  <tbody>\n    <tr>\n      <th>0</th>\n      <td>BURST Professionals</td>\n      <td>99.857718</td>\n    </tr>\n    <tr>\n      <th>1</th>\n      <td>5 Minute Clinical Consult 2019 - #1 for 25 years</td>\n      <td>99.475821</td>\n    </tr>\n    <tr>\n      <th>2</th>\n      <td>MedM Blood Pressure</td>\n      <td>99.428949</td>\n    </tr>\n    <tr>\n      <th>3</th>\n      <td>Jaylex</td>\n      <td>96.125017</td>\n    </tr>\n    <tr>\n      <th>4</th>\n      <td>5 Minute Veterinary Consult: Canine &amp; Feline</td>\n      <td>95.283581</td>\n    </tr>\n  </tbody>\n</table>\n</div>"
          },
          "metadata": {}
        }
      ]
    }
  ]
}